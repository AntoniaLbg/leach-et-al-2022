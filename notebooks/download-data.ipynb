{
 "cells": [
  {
   "cell_type": "markdown",
   "id": "fifteen-sunglasses",
   "metadata": {},
   "source": [
    "# Notebook to grab required data and put it in the right place\n",
    "\n",
    "Chris Smith, 18.03.2021\n",
    "\n",
    "Grabs data from: https://zenodo.org/record/4607413#.YFN2A1X7TIV then unzips it.\n",
    "\n",
    "Data is 3.3 GB, so might take a while - and ensure you have sufficient disk space (roughly 2x this as zip is extracted first then deleted).\n",
    "\n",
    "This might have been better as a shell script!"
   ]
  },
  {
   "cell_type": "code",
   "execution_count": 13,
   "id": "violent-starter",
   "metadata": {},
   "outputs": [],
   "source": [
    "import os\n",
    "import urllib\n",
    "import errno\n",
    "import shutil\n",
    "from zipfile import ZipFile"
   ]
  },
  {
   "cell_type": "code",
   "execution_count": null,
   "id": "individual-roommate",
   "metadata": {},
   "outputs": [],
   "source": [
    "def check_and_download(filepath, url):\n",
    "    \"\"\"Checks prescence of a file and downloads if not present.\n",
    "\n",
    "    Inputs\n",
    "    ------\n",
    "        filepath : str\n",
    "            filename to download to\n",
    "        url :\n",
    "            url to download from\n",
    "    \"\"\"\n",
    "    if not os.path.isfile(filepath):\n",
    "        urllib.request.urlretrieve(url, filepath)\n",
    "    return\n",
    "\n",
    "\n",
    "def mkdir_p(path):\n",
    "    \"\"\"Checks to see if directory exists, and if not, creates it.\n",
    "\n",
    "    Inputs\n",
    "    ------\n",
    "        path : str\n",
    "            directory to create\n",
    "\n",
    "    Raises\n",
    "    ------\n",
    "        OSError:\n",
    "            if directory cannot be created\n",
    "    \"\"\"\n",
    "    try:\n",
    "        os.makedirs(path)\n",
    "    except OSError as exc:\n",
    "        if exc.errno == errno.EEXIST and os.path.isdir(path):\n",
    "            pass\n",
    "        else:\n",
    "            raise"
   ]
  },
  {
   "cell_type": "code",
   "execution_count": 5,
   "id": "indonesian-michigan",
   "metadata": {},
   "outputs": [],
   "source": [
    "check_and_download('../FaIRv2.0.0-alpha_aux_input-data.zip', 'https://zenodo.org/record/4607413/files/FaIRv2.0.0-alpha_aux_input-data.zip')"
   ]
  },
  {
   "cell_type": "code",
   "execution_count": 12,
   "id": "thrown-relief",
   "metadata": {},
   "outputs": [],
   "source": [
    "# Extract zip file\n",
    "with ZipFile('../FaIRv2.0.0-alpha_aux_input-data.zip', 'r') as zipObj:\n",
    "    zipObj.extractall('../')"
   ]
  },
  {
   "cell_type": "code",
   "execution_count": 14,
   "id": "recent-shannon",
   "metadata": {},
   "outputs": [
    {
     "data": {
      "text/plain": [
       "'../aux'"
      ]
     },
     "execution_count": 14,
     "metadata": {},
     "output_type": "execute_result"
    }
   ],
   "source": [
    "shutil.move('../FaIRv2.0.0-alpha/aux', '../')"
   ]
  },
  {
   "cell_type": "code",
   "execution_count": null,
   "id": "blessed-firewall",
   "metadata": {},
   "outputs": [],
   "source": [
    "# Delete zip and empty folder\n",
    "os.rmdir\n",
    "os.remove('../FaIRv2.0.0-alpha_aux_input-data.zip')"
   ]
  }
 ],
 "metadata": {
  "kernelspec": {
   "display_name": "Python 3",
   "language": "python",
   "name": "python3"
  },
  "language_info": {
   "codemirror_mode": {
    "name": "ipython",
    "version": 3
   },
   "file_extension": ".py",
   "mimetype": "text/x-python",
   "name": "python",
   "nbconvert_exporter": "python",
   "pygments_lexer": "ipython3",
   "version": "3.7.10"
  }
 },
 "nbformat": 4,
 "nbformat_minor": 5
}
