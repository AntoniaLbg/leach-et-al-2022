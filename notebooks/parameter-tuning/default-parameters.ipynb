{
 "cells": [
  {
   "cell_type": "markdown",
   "id": "separated-provision",
   "metadata": {},
   "source": [
    "## Import dependencies"
   ]
  },
  {
   "cell_type": "code",
   "execution_count": 1,
   "id": "enabling-zealand",
   "metadata": {},
   "outputs": [],
   "source": [
    "import numpy as np\n",
    "import sys\n",
    "import pandas as pd\n",
    "import matplotlib\n",
    "import matplotlib.pyplot as plt\n",
    "import seaborn as sn\n",
    "import glob\n",
    "import requests\n",
    "import ftplib\n",
    "import xarray as xr\n",
    "import statsmodels.api as sm\n",
    "import PyPDF2\n",
    "import os\n",
    "\n",
    "from fair import *\n",
    "from fair.scripts.data_retrieval import *\n",
    "from fair.scripts.stats import *\n",
    "from fair.scripts.fair_tuning_scripts import *\n",
    "\n",
    "%matplotlib inline"
   ]
  },
  {
   "cell_type": "markdown",
   "id": "literary-avenue",
   "metadata": {},
   "source": [
    "# I. Gas cycle parameters"
   ]
  },
  {
   "cell_type": "markdown",
   "id": "fifth-colombia",
   "metadata": {},
   "source": [
    "### data retrieval"
   ]
  },
  {
   "cell_type": "markdown",
   "id": "synthetic-samba",
   "metadata": {},
   "source": [
    "#### concentrations\n",
    "\n",
    "WMGHG concentrations are from the CMIP6 concentration dataset, [Meinshausen et al., 2017](https://www.geosci-model-dev.net/10/2057/2017/). For some species, these are extended using data from NOAA.\n",
    "\n",
    "Reference:\n",
    "\n",
    "Meinshausen, M., Vogel, E., Nauels, A., Lorbacher, K., Meinshausen, N., Etheridge, D. M., … Weiss, R. (2017). Historical greenhouse gas concentrations for climate modelling (CMIP6). Geoscientific Model Development, 10(5), 2057–2116. https://doi.org/10.5194/gmd-10-2057-2017"
   ]
  },
  {
   "cell_type": "code",
   "execution_count": 2,
   "id": "bronze-dallas",
   "metadata": {},
   "outputs": [],
   "source": [
    "## import concentrations from official CMIP6 timeseries:\n",
    "CMIP6_conc_ftp = ftplib.FTP('data.iac.ethz.ch','anonymous')\n",
    "CMIP6_conc_ftp.cwd('CMIP6/input4MIPs/UoM/GHGConc/CMIP/yr/atmos/UoM-CMIP-1-1-0/GHGConc/gr3-GMNHSH/v20160701')\n",
    "CMIP6_ftp_list = [x for x in CMIP6_conc_ftp.nlst() if x[-3:]=='csv']\n",
    "WMGHG_concs = pd.DataFrame(dict(zip(['_'.join(x.split('_')[3:-8]) for x in CMIP6_ftp_list],[pd.read_csv('ftp://data.iac.ethz.ch/CMIP6/input4MIPs/UoM/GHGConc/CMIP/yr/atmos/UoM-CMIP-1-1-0/GHGConc/gr3-GMNHSH/v20160701/'+x,usecols=[0,1],index_col=0).iloc[:,0] for x in CMIP6_ftp_list])))\n",
    "WMGHG_concs = WMGHG_concs[[x for x in WMGHG_concs.columns if x[-2:]!='eq']] # remove \"equivalent\" concentrations\n",
    "\n",
    "WMGHG_concs['halon1202'] = 0\n",
    "WMGHG_concs.loc[1765:2014,'halon1202'] = pd.read_csv('http://www.pik-potsdam.de/~mmalte/rcps/data/RCP45_MIDYEAR_CONCENTRATIONS.DAT',skiprows=38,delim_whitespace=True,index_col=0)['HALON1202'].loc[1765:2014].values"
   ]
  },
  {
   "cell_type": "code",
   "execution_count": 3,
   "id": "unnecessary-calgary",
   "metadata": {},
   "outputs": [
    {
     "name": "stderr",
     "output_type": "stream",
     "text": [
      "/nfs/a65/pmcjs/miniconda3/envs/leach2021/lib/python3.7/site-packages/ipykernel_launcher.py:2: ParserWarning: Falling back to the 'python' engine because the 'c' engine does not support skipfooter; you can avoid this warning by specifying engine='python'.\n",
      "  \n"
     ]
    }
   ],
   "source": [
    "## we extend CO2, CH4 & N2O out to 2019 using the NOAA ESRL data\n",
    "NOAA_molefrac = pd.read_csv('https://www.esrl.noaa.gov/gmd/aggi/NOAA_MoleFractions_2020.csv',skiprows=2,index_col=0,skipfooter=5).iloc[1:].replace('nd',np.nan).apply(pd.to_numeric).rename(dict(CO2='carbon_dioxide',CH4='methane',N2O='nitrous_oxide'),axis=1)\n",
    "\n",
    "WMGHG_concs = WMGHG_concs.reindex(np.arange(2020))\n",
    "\n",
    "for species in ['carbon_dioxide','methane','nitrous_oxide']:\n",
    "    \n",
    "    # scale the NOAA data to join seamlessly (scale factors are almost exactly 1)\n",
    "    scale_factor = WMGHG_concs.loc[2010:2014,species].mean() / NOAA_molefrac.loc[2010:2015,species].mean()\n",
    "    WMGHG_concs.loc[2015:2019,species] = NOAA_molefrac.loc[2015:2020,species].values * scale_factor"
   ]
  },
  {
   "cell_type": "code",
   "execution_count": 4,
   "id": "perfect-watts",
   "metadata": {},
   "outputs": [],
   "source": [
    "WMGHG_concs.drop(np.arange(1750),inplace=True)"
   ]
  },
  {
   "cell_type": "code",
   "execution_count": 5,
   "id": "eastern-circuit",
   "metadata": {},
   "outputs": [],
   "source": [
    "# rescale all GHGs to be in ppb (bar CO2)\n",
    "WMGHG_concs[WMGHG_concs.columns.drop(['carbon_dioxide','methane','nitrous_oxide'])] *= 1/1000"
   ]
  },
  {
   "cell_type": "markdown",
   "id": "tired-tracy",
   "metadata": {},
   "source": [
    "#### emissions\n",
    "\n",
    "Emissions are taken from the RCMIP protocol.\n",
    "\n",
    "Reference:\n",
    "\n",
    "Nicholls, Z. R. J., Meinshausen, M., Lewis, J., Gieseke, R., Dommenget, D., Dorheim, K., … Xie, Z. (2020). Reduced complexity model intercomparison project phase 1: Protocol, results and initial observations. Geoscientific Model Development Discussions, 1–33. https://doi.org/10.5194/gmd-2019-375"
   ]
  },
  {
   "cell_type": "code",
   "execution_count": 6,
   "id": "divided-reservoir",
   "metadata": {},
   "outputs": [],
   "source": [
    "RCMIP_emissions = RCMIP_to_FaIR_input_emms('ssp245').interpolate().loc[:2019]"
   ]
  },
  {
   "cell_type": "markdown",
   "id": "rubber-gateway",
   "metadata": {},
   "source": [
    "## CO2\n",
    "For CO$_2$, we tune the $r_0$ parameter to best-match historical cumulative emissions. The other $r$ parameters are inferred from the CMIP6 cc reduced parameterisation mean. The default pre-industrial concentration is set to 278."
   ]
  },
  {
   "cell_type": "code",
   "execution_count": 7,
   "id": "requested-brazilian",
   "metadata": {},
   "outputs": [
    {
     "data": {
      "text/plain": [
       "<matplotlib.legend.Legend at 0x7fa697b2e550>"
      ]
     },
     "execution_count": 7,
     "metadata": {},
     "output_type": "execute_result"
    },
    {
     "data": {
      "image/png": "[encoded data removed]",
      "text/plain": [
       "<Figure size 864x216 with 3 Axes>"
      ]
     },
     "metadata": {
      "needs_background": "light"
     },
     "output_type": "display_data"
    }
   ],
   "source": [
    "## first look at concentrations & emissions\n",
    "fig,ax = plt.subplots(1,3,figsize=(12,3))\n",
    "WMGHG_concs.carbon_dioxide.plot(ax=ax[0])\n",
    "RCMIP_emissions.carbon_dioxide.plot(ax=ax[1],label='RCMIP')\n",
    "RCMIP_emissions.carbon_dioxide.cumsum().plot(ax=ax[2])\n",
    "\n",
    "## benchmark RCMIP against Global Carbon Project\n",
    "r=requests.get('https://data.icos-cp.eu/licence_accept?ids=%5B%226QlPjfn_7uuJtAeuGGFXuPwz%22%5D')\n",
    "GCP_CO2 = pd.read_excel(r.content,7,skiprows=15,index_col=0,engine='openpyxl').dropna(how='all').dropna(axis=1,how='all').iloc[:-1].astype(float)\n",
    "\n",
    "GCP_CO2.iloc[:,:2].replace(np.nan,0).sum(axis=1).plot(ax=ax[1],label='GCP')\n",
    "GCP_CO2.iloc[:,:2].replace(np.nan,0).sum(axis=1).cumsum().plot(ax=ax[2])\n",
    "\n",
    "ax[0].set_title('CO$_2$ concentrations')\n",
    "ax[1].set_title('CO$_2$ emissions')\n",
    "ax[2].set_title('Cumulative CO$_2$ emissions')\n",
    "\n",
    "ax[1].legend()"
   ]
  },
  {
   "cell_type": "code",
   "execution_count": 8,
   "id": "seven-reader",
   "metadata": {},
   "outputs": [
    {
     "data": {
      "text/plain": [
       "<AxesSubplot:>"
      ]
     },
     "execution_count": 8,
     "metadata": {},
     "output_type": "execute_result"
    },
    {
     "data": {
      "image/png": "[encoded data removed]",
      "text/plain": [
       "<Figure size 432x288 with 1 Axes>"
      ]
     },
     "metadata": {
      "needs_background": "light"
     },
     "output_type": "display_data"
    }
   ],
   "source": [
    "## import a temperature dataset to use for the tuning\n",
    "### here we use HadCRUT5\n",
    "LOWESS = sm.nonparametric.lowess\n",
    "\n",
    "HC5 = xr.open_dataset('../../aux/input-data/Temperature-observations/HadCRUT.5.0.1.0.analysis.summary_series.global.annual.nc').tas_mean.to_pandas()\n",
    "HC5.index = np.arange(1850,2021)\n",
    "HC5 -= HC5.loc[1850:1900].mean()\n",
    "HC5 = HC5.reindex(np.arange(1750,2021))\n",
    "# extend back to 1750 (assuming zero anomaly relative to 1850-1900)\n",
    "HC5.loc[1750:1849] = 0\n",
    "HC5_smooth = pd.Series(*LOWESS(HC5.values,HC5.index,frac=0.2)[:,::-1].T)\n",
    "HC5 = pd.concat([HC5,HC5_smooth],axis=1,keys=['HadCRUT5','HadCRUT5_lowess'])\n",
    "HC5.plot(color=['k','r'])"
   ]
  },
  {
   "cell_type": "code",
   "execution_count": 9,
   "id": "expected-chancellor",
   "metadata": {},
   "outputs": [
    {
     "name": "stdout",
     "output_type": "stream",
     "text": [
      "Tuned r parameters: [3.38818890e+01 1.87789143e-02 2.67239543e+00 0.00000000e+00]\n"
     ]
    },
    {
     "data": {
      "image/png": "[encoded data removed]",
      "text/plain": [
       "<Figure size 576x216 with 2 Axes>"
      ]
     },
     "metadata": {
      "needs_background": "light"
     },
     "output_type": "display_data"
    }
   ],
   "source": [
    "## proceed with the tuning, using RCMIP emissions as our benchmark emission source\n",
    "base_params = get_gas_parameter_defaults()['default']\n",
    "a = base_params.loc['a1':'a4','carbon_dioxide'].values\n",
    "tau = base_params.loc['tau1':'tau4','carbon_dioxide'].values\n",
    "PI_conc = 278\n",
    "emis2conc = base_params.loc['emis2conc','carbon_dioxide']\n",
    "\n",
    "CMIP6_cc_range = pd.read_csv('../../aux/parameter-sets/CMIP6_cc_reduced.csv',index_col=0)\n",
    "\n",
    "r_base = np.array([CMIP6_cc_range.loc['r0'].mean(),\n",
    "                  np.exp(np.log(CMIP6_cc_range.loc['rU']).mean()),\n",
    "                  CMIP6_cc_range.loc['rT'].mean(),\n",
    "                  0])\n",
    "\n",
    "def tune_r0(x):\n",
    "    r_tune = r_base.copy()\n",
    "    r_tune[0] = x\n",
    "    \n",
    "    # start in 1765 as this is approximately the year concentrations are at \"pre-industrial\" levels\n",
    "    C = WMGHG_concs.carbon_dioxide.loc[1765:2019].values\n",
    "    T = HC5.HadCRUT5_lowess.loc[1765:2019].values\n",
    "    diagnosed_emissions = invert_carbon_cycle_prescribed_T(C,T,a,tau,r_tune,PI_conc,emis2conc)['emms']\n",
    "    cost = abs(diagnosed_emissions.sum() - RCMIP_emissions.carbon_dioxide.loc[1765:2019].sum())\n",
    "    \n",
    "    return cost\n",
    "\n",
    "tuned_r0 = sp.optimize.newton(tune_r0,x0=30)\n",
    "r_tuned = r_base.copy()\n",
    "r_tuned[0] = tuned_r0\n",
    "\n",
    "C = WMGHG_concs.carbon_dioxide.loc[1765:2019].values\n",
    "T = HC5.HadCRUT5_lowess.loc[1765:2019].values\n",
    "diagnosed_emissions = invert_carbon_cycle_prescribed_T(C,T,a,tau,r_tuned,PI_conc,emis2conc)['emms']\n",
    "diagnosed_emissions.index=np.arange(1765,2020)\n",
    "\n",
    "fig,ax = plt.subplots(1,2,figsize=(8,3))\n",
    "\n",
    "RCMIP_emissions.carbon_dioxide.loc[1765:2019].plot(ax=ax[0],c='k',label='RCMIP')\n",
    "diagnosed_emissions.plot(ax=ax[0],c='r',label='FaIRv2 default')\n",
    "\n",
    "RCMIP_emissions.carbon_dioxide.loc[1765:2019].cumsum().plot(ax=ax[1],c='k')\n",
    "diagnosed_emissions.cumsum().plot(ax=ax[1],c='r')\n",
    "\n",
    "ax[0].legend()\n",
    "\n",
    "print('Tuned r parameters:' , r_tuned)"
   ]
  },
  {
   "cell_type": "markdown",
   "id": "divided-tribune",
   "metadata": {},
   "source": [
    "## CH4\n",
    "\n",
    "For CH4 we linearise the CH4 lifetime sensitivities from [Holmes et al., 2013](www.atmos-chem-phys.net/13/285/2013/) to it's own atmospheric burden, atmospheric temperatures & atmospheric water vapour concentration. For the maths + approximations, see appendix I.\n",
    "\n",
    "The self-feedback is parameterised by $r_A = 0.00032$\n",
    "\n",
    "The temperature and waver vapour feedbacks are parameterised by $r_T = -0.3$\n",
    "\n",
    "We then tune the base CH4 lifetime, $\\tau_1$, to observed concentrations and RCMIP emissions. The pre-industrial concentration is assumed to be 720 ppb.\n",
    "\n",
    "Reference:\n",
    "\n",
    "Holmes, C. D., Prather, M. J., Søvde, O. A., & Myhre, G. (2013). Future methane, hydroxyl, and their uncertainties: Key climate and emission parameters for future predictions. Atmospheric Chemistry and Physics, 13, 285–302. https://doi.org/10.5194/acp-13-285-2013"
   ]
  },
  {
   "cell_type": "code",
   "execution_count": 10,
   "id": "engaged-recycling",
   "metadata": {},
   "outputs": [
    {
     "name": "stdout",
     "output_type": "stream",
     "text": [
      "Tuned lifetime: 8.23\n"
     ]
    },
    {
     "data": {
      "image/png": "[encoded data removed]",
      "text/plain": [
       "<Figure size 576x216 with 2 Axes>"
      ]
     },
     "metadata": {
      "needs_background": "light"
     },
     "output_type": "display_data"
    }
   ],
   "source": [
    "## since CH4 is short-lived, r_0 ~ tau_1\n",
    "a = base_params.loc['a1':'a4','methane'].values\n",
    "tau = base_params.loc['tau1':'tau4','methane'].values\n",
    "PI_conc = 720\n",
    "emis2conc = base_params.loc['emis2conc','methane']\n",
    "r = base_params.loc['r0':'rA','methane'].values\n",
    "\n",
    "def tune_tau(x):\n",
    "    tau_tune = tau.copy()\n",
    "    tau_tune[0] = x\n",
    "    \n",
    "    r_tune = r.copy()\n",
    "    r_tune[0] = x\n",
    "    r_tune[2] = -0.3\n",
    "    r_tune[3] = 0.00032\n",
    "    \n",
    "    # start in 1765 as this is approximately the year concentrations are at \"pre-industrial\" levels\n",
    "    C = WMGHG_concs.methane.loc[1750:2019].values\n",
    "    T = HC5.HadCRUT5_lowess.loc[1750:2019].values\n",
    "    diagnosed_emissions = invert_carbon_cycle_prescribed_T(C,T,a,tau_tune,r_tune,PI_conc,emis2conc)['emms']\n",
    "    diagnosed_emissions.index = np.arange(1750,2020)\n",
    "    \n",
    "    cost = abs(diagnosed_emissions.loc[2000:2019].mean() - RCMIP_emissions.methane.loc[2000:2019].mean())\n",
    "    \n",
    "    return cost\n",
    "\n",
    "tuned_tau = sp.optimize.newton(tune_tau,x0=9)\n",
    "tau_tuned = tau.copy()\n",
    "tau_tuned[0] = tuned_tau\n",
    "\n",
    "r_tuned = r.copy()\n",
    "r_tuned[0] = tuned_tau\n",
    "r_tuned[2] = -0.3\n",
    "r_tuned[3] = 0.00032\n",
    "\n",
    "C = WMGHG_concs.methane.loc[1750:2019].values\n",
    "T = HC5.HadCRUT5_lowess.loc[1750:2019].values\n",
    "diagnosed_emissions = invert_carbon_cycle_prescribed_T(C,T,a,tau_tuned,r_tuned,PI_conc,emis2conc)\n",
    "diagnosed_emissions.index = np.arange(1750,2020)\n",
    "\n",
    "fig,ax = plt.subplots(1,2,figsize=(8,3))\n",
    "\n",
    "RCMIP_emissions.methane.loc[1750:2019].plot(ax=ax[0],c='k',label='RCMIP')\n",
    "diagnosed_emissions.emms.plot(ax=ax[0],c='r',label='FaIRv2 default')\n",
    "\n",
    "(diagnosed_emissions.alpha*tuned_tau).plot(ax=ax[1],c='r')\n",
    "\n",
    "ax[0].legend()\n",
    "\n",
    "print('Tuned lifetime:' , round(tuned_tau,2))"
   ]
  },
  {
   "cell_type": "markdown",
   "id": "caring-holocaust",
   "metadata": {},
   "source": [
    "## N2O\n",
    "\n",
    "For N2O, it is possible to incorporate some lifetime sensitivity to its own atmospheric burden (eg. as is done in MAGICC), with very similar results. This is done by setting the N2O $r_A = -0.001$; computed by linearising the sensitivity of -0.065 in [Prather et al., 2015](https://doi.org/10.1002/2015JD023267).\n",
    "\n",
    "However, in practice this makes virtually zero difference, so for the sake of simplicity we do not include this sensitivity by default.\n",
    "\n",
    "We assume the pre-industrial concentration of N2O is 270 ppb, and then tune the lifetime such that the cumulative diagnosed emissions to present-day are equal to the RCMIP emissions.\n",
    "\n",
    "References:\n",
    "\n",
    "Prather, M. J., Hsu, J., DeLuca, N. M., Jackman, C. H., Oman, L. D., Douglass, A. R., … Funke, B. (2015). Measuring and modeling the lifetime of nitrous oxide including its variability. Journal of Geophysical Research: Atmospheres, 120(11), 5693–5705. https://doi.org/10.1002/2015JD023267"
   ]
  },
  {
   "cell_type": "code",
   "execution_count": 11,
   "id": "checked-karma",
   "metadata": {},
   "outputs": [
    {
     "name": "stdout",
     "output_type": "stream",
     "text": [
      "Tuned lifetime: 100.0\n",
      "Tuned r0: 63.2\n"
     ]
    },
    {
     "data": {
      "image/png": "[encoded data removed]",
      "text/plain": [
       "<Figure size 576x216 with 2 Axes>"
      ]
     },
     "metadata": {
      "needs_background": "light"
     },
     "output_type": "display_data"
    }
   ],
   "source": [
    "a = base_params.loc['a1':'a4','nitrous_oxide'].values\n",
    "tau = base_params.loc['tau1':'tau4','nitrous_oxide'].values\n",
    "PI_conc = 270\n",
    "emis2conc = base_params.loc['emis2conc','nitrous_oxide']\n",
    "r = base_params.loc['r0':'rA','nitrous_oxide'].values\n",
    "\n",
    "def tune_tau(x):\n",
    "    tau_tune = tau.copy()\n",
    "    tau_tune[0] = x\n",
    "    \n",
    "    g1 = (x) * ( 1. - ( 1. + 100/(x) ) * np.exp(-100/(x)) )\n",
    "    g0 = np.exp( - (x) * ( 1. - np.exp(-100/(x)) )  / g1 )\n",
    "    \n",
    "    r_tune = r.copy()\n",
    "    r_tune[0] = g1*np.log(1/g0)\n",
    "    \n",
    "    # start in 1765 as this is approximately the year concentrations are at \"pre-industrial\" levels\n",
    "    C = WMGHG_concs.nitrous_oxide.loc[1750:2019].values\n",
    "    T = HC5.HadCRUT5_lowess.loc[1750:2019].values\n",
    "    diagnosed_emissions = invert_carbon_cycle_prescribed_T(C,T,a,tau_tune,r_tune,PI_conc,emis2conc)['emms']\n",
    "    diagnosed_emissions.index = np.arange(1750,2020)\n",
    "    \n",
    "    cost = abs(diagnosed_emissions.loc[1850:2019].sum() - RCMIP_emissions.nitrous_oxide.loc[1850:2019].sum())\n",
    "    \n",
    "    return cost\n",
    "\n",
    "tuned_tau = sp.optimize.newton(tune_tau,x0=110)\n",
    "tau_tuned = tau.copy()\n",
    "tau_tuned[0] = tuned_tau\n",
    "\n",
    "r_tuned = r.copy()\n",
    "g1 = (tuned_tau) * ( 1. - ( 1. + 100/(tuned_tau) ) * np.exp(-100/(tuned_tau)) )\n",
    "g0 = np.exp( - (tuned_tau) * ( 1. - np.exp(-100/(tuned_tau)) )  / g1 )\n",
    "r_tuned[0] = g1*np.log(1/g0)\n",
    "\n",
    "C = WMGHG_concs.nitrous_oxide.loc[1750:2019].values\n",
    "T = HC5.HadCRUT5_lowess.loc[1750:2019].values\n",
    "diagnosed_emissions = invert_carbon_cycle_prescribed_T(C,T,a,tau,r_tuned,PI_conc,emis2conc)['emms']\n",
    "diagnosed_emissions.index=np.arange(1750,2020)\n",
    "\n",
    "fig,ax = plt.subplots(1,2,figsize=(8,3))\n",
    "\n",
    "RCMIP_emissions.nitrous_oxide.loc[1750:2019].plot(ax=ax[0],c='k',label='RCMIP')\n",
    "diagnosed_emissions.plot(ax=ax[0],c='r',label='FaIRv2 default')\n",
    "\n",
    "RCMIP_emissions.nitrous_oxide.loc[1750:2019].cumsum().plot(ax=ax[1],c='k')\n",
    "diagnosed_emissions.cumsum().plot(ax=ax[1],c='r')\n",
    "\n",
    "ax[0].legend()\n",
    "\n",
    "print('Tuned lifetime:' , round(tuned_tau,1))\n",
    "print('Tuned r0:' , round(r_tuned[0],1))"
   ]
  },
  {
   "cell_type": "markdown",
   "id": "vocal-proceeding",
   "metadata": {},
   "source": [
    "## Other WMGHGs\n",
    "\n",
    "By default in FaIRv2 all other well-mixed greenhouse gases have:\n",
    "- a single gas pool (like CH$_4$ and N$_2$O)\n",
    "- no sensitivities ($r_u = r_T = r_a = 0$)\n",
    "\n",
    "We take default lifetimes, radiative efficiencies and oxone depletion potentials for all other species from the 2018 WMO Ozone Assessment, appendix A.\n",
    "\n",
    "Reference:\n",
    "\n",
    "WMO (World Meteorological Organization). (2018). Scientific Assessment of Ozone Depletion: 2018. Retrieved from https://www.esrl.noaa.gov/csl/assessments/ozone/2018/#intro-1"
   ]
  },
  {
   "cell_type": "code",
   "execution_count": 12,
   "id": "exposed-jaguar",
   "metadata": {},
   "outputs": [],
   "source": [
    "WMGHG_data = pd.DataFrame(index = WMGHG_concs.columns,columns = ['MW','tau','RE','ODP'],dtype=float)\n",
    "\n",
    "WMGHG_data.loc[\"c2f6\"]=[138.01,10000, 0.25,0]\n",
    "WMGHG_data.loc[\"c3f8\"]=[188.02,2600, 0.28,0]\n",
    "WMGHG_data.loc[\"c4f10\"]=[238.027,2600, 0.36,0]\n",
    "WMGHG_data.loc[\"c5f12\"]=[288.034,4100, 0.41,0]\n",
    "WMGHG_data.loc[\"c6f14\"]=[338.042,3100, 0.44,0]\n",
    "WMGHG_data.loc[\"c7f16\"]=[388.049,3000, 0.5,0]\n",
    "WMGHG_data.loc[\"c8f18\"]=[438.06,3000, 0.55,0]\n",
    "WMGHG_data.loc[\"c_c4f8\"]=[200.03,3200, 0.32,0]\n",
    "\n",
    "WMGHG_data.loc[\"carbon_tetrachloride\"]=[153.82,32, 0.174,0.89]\n",
    "WMGHG_data.loc[\"cf4\"]=[88.0043,50000, 0.09,0]\n",
    "\n",
    "WMGHG_data.loc[\"cfc113\"]=[187.376,93, 0.3,0.81]\n",
    "WMGHG_data.loc[\"cfc114\"]=[170.92,189, 0.31,0.5]\n",
    "WMGHG_data.loc[\"cfc115\"]=[154.466,540, 0.2,0.26]\n",
    "WMGHG_data.loc[\"cfc11\"]=[137.37,52, 0.26,1]\n",
    "WMGHG_data.loc[\"cfc12\"]=[120.91,102, 0.32,0.77]\n",
    "\n",
    "WMGHG_data.loc[\"ch2cl2\"]=[84.93,0.4928266345416712, 0.028,0]\n",
    "WMGHG_data.loc[\"ch3ccl3\"]=[133.4,5, 0.07,0.15]\n",
    "WMGHG_data.loc[\"chcl3\"]=[119.37,0.5010404117840324, 0.07,0]\n",
    "\n",
    "WMGHG_data.loc[\"halon1202\"]=[209.82,2.5, 0.27,1.7]\n",
    "WMGHG_data.loc[\"halon1211\"]=[165.36,16, 0.29,7.3]\n",
    "WMGHG_data.loc[\"halon1301\"]=[148.91,72, 0.3,17.1]\n",
    "WMGHG_data.loc[\"halon2402\"]=[259.823,28, 0.31,15.7]\n",
    "\n",
    "WMGHG_data.loc[\"hcfc141b\"]=[116.94,9.4, 0.16,0.086]\n",
    "WMGHG_data.loc[\"hcfc142b\"]=[100.49,18, 0.19,0.04]\n",
    "WMGHG_data.loc[\"hcfc22\"]=[86.47,11.9, 0.21,0.029]\n",
    "\n",
    "WMGHG_data.loc[\"hfc125\"]=[120.02,30, 0.23,0]\n",
    "WMGHG_data.loc[\"hfc134a\"]=[102.03,14, 0.16,0]\n",
    "WMGHG_data.loc[\"hfc143a\"]=[84.04,51, 0.16,0]\n",
    "WMGHG_data.loc[\"hfc152a\"]=[66.05,1.6, 0.1,0]\n",
    "WMGHG_data.loc[\"hfc227ea\"]=[170.03,36, 0.26,0]\n",
    "WMGHG_data.loc[\"hfc236fa\"]=[152.039,213, 0.24,0]\n",
    "WMGHG_data.loc[\"hfc23\"]=[70.01,228, 0.18,0]\n",
    "WMGHG_data.loc[\"hfc245fa\"]=[134.05,7.9, 0.24,0]\n",
    "WMGHG_data.loc[\"hfc32\"]=[52.02,5.4, 0.11,0]\n",
    "WMGHG_data.loc[\"hfc365mfc\"]=[148.074,8.9, 0.22,0]\n",
    "WMGHG_data.loc[\"hfc4310mee\"]=[252.055,17, 0.359,0]\n",
    "\n",
    "WMGHG_data.loc[\"methyl_bromide\"]=[94.94,0.8, 0.004,0.57]\n",
    "WMGHG_data.loc[\"methyl_chloride\"]=[50.49,0.9, 0.004,0.015]\n",
    "WMGHG_data.loc[\"nf3\"]=[71,569, 0.2,0]\n",
    "WMGHG_data.loc[\"sf6\"]=[146.06,3200, 0.57,0]\n",
    "WMGHG_data.loc[\"so2f2\"]=[102.06,36, 0.2,0]"
   ]
  },
  {
   "cell_type": "markdown",
   "id": "parental-picture",
   "metadata": {},
   "source": [
    "# II. Forcing parameters"
   ]
  },
  {
   "cell_type": "markdown",
   "id": "outdoor-bowling",
   "metadata": {},
   "source": [
    "## CO2, CH4 & N2O\n",
    "\n",
    "Here we tune the forcing parameters to match the results of [Etminan et al., 2016](https://doi.org/10.1002/2016GL071930) as closely as possible. We exclude the interactions between species, noting that these are only significant for extreme high emission scenarios (RCP8.5). Other feedbacks and uncertainties not included in SCMs are very likely more important with regards to the accuracy of simple models under this \"worst-case\" scenario.\n",
    "\n",
    "Reference:\n",
    "\n",
    "Etminan, M., Myhre, G., Highwood, E. J., & Shine, K. P. (2016). Radiative forcing of carbon dioxide, methane, and nitrous oxide: A significant revision of the methane radiative forcing. Geophysical Research Letters, 43(24), 12,614-12,623. https://doi.org/10.1002/2016GL071930"
   ]
  },
  {
   "cell_type": "code",
   "execution_count": 13,
   "id": "ancient-victoria",
   "metadata": {},
   "outputs": [],
   "source": [
    "# here we download and read in table S2 from Etminan et al, 2016\n",
    "os.system('wget \"https://agupubs.onlinelibrary.wiley.com/action/downloadSupplement?doi=10.1002%2F2016GL071930&file=grl55302-sup-0001-Supplementary.pdf\" -O ../../aux/input-data/_hidden/olbl.pdf')\n",
    "pdffile = PyPDF2.PdfFileReader('../../aux/input-data/_hidden/olbl.pdf')\n",
    "OLBLtable = pdffile.getPage(2).extractText().replace('\\n \\n',',').replace('\\n','').split(',')[42:-1]\n",
    "OLBLtable2 = pdffile.getPage(3).extractText().replace('\\n \\n',',').replace('\\n','').split(',')[36:-1]\n",
    "OLBL_df = pd.concat([pd.DataFrame([OLBLtable[i*15:(i+1)*15] for i in np.arange(38)],columns = ['index','CO2_conc','CH4_conc','N2O_conc','sw','LW_inst_cl','LW_inst','LW_adj','Net','change_rel_to_old_fits','CO2_rf','N2O_rf','CH4_rf','rf_SUM','err_in_new_fits']).set_index('index').iloc[:-1],pd.DataFrame([OLBLtable2[i*15:(i+1)*15] for i in np.arange(11)],columns = ['index','CO2_conc','CH4_conc','N2O_conc','sw','LW_inst_cl','LW_inst','LW_adj','Net','change_rel_to_old_fits','CO2_rf','N2O_rf','CH4_rf','rf_SUM','err_in_new_fits']).set_index('index').iloc[:-1]]).apply(pd.to_numeric)\n",
    "OLBL_df.loc[1] = [389,1800,323,0,0,0,0,0,np.nan,0,0,0,0,np.nan]"
   ]
  },
  {
   "cell_type": "code",
   "execution_count": 14,
   "id": "identical-psychiatry",
   "metadata": {},
   "outputs": [
    {
     "name": "stdout",
     "output_type": "stream",
     "text": [
      "CO2 f1 = 4.565090918560827 \n",
      "CO2 f3 = 0.08608124523763294\n",
      "\n",
      "F_2xCO2 =  3.758784545862718\n"
     ]
    }
   ],
   "source": [
    "## Tune CO2 to f1 & f3 as in Shi (1992) based on present-day N2O & CH4\n",
    "CO2_rf = OLBL_df.query(\"CH4_conc==1800&N2O_conc==323\").Net.values.flatten()\n",
    "CO2_ppm = OLBL_df.query(\"CH4_conc==1800&N2O_conc==323\").CO2_conc.values.flatten()\n",
    "_lr = OLSE_NORM(np.array([np.sqrt(CO2_ppm)-np.sqrt(278),np.log(CO2_ppm/278)]).T,CO2_rf[:,np.newaxis])\n",
    "\n",
    "print('CO2 f1 =',_lr['coefs'].flatten()[1],'\\nCO2 f3 =',_lr['coefs'].flatten()[0])\n",
    "print('\\nF_2xCO2 = ',_lr['coefs'].flatten()[0]*(np.sqrt(278*2)-np.sqrt(278))+_lr['coefs'].flatten()[1]*np.log(2))"
   ]
  },
  {
   "cell_type": "code",
   "execution_count": 15,
   "id": "missing-affiliation",
   "metadata": {},
   "outputs": [
    {
     "name": "stdout",
     "output_type": "stream",
     "text": [
      "CH4 f3 =  0.03800722764327395\n"
     ]
    }
   ],
   "source": [
    "print('CH4 f3 = ',(OLBL_df.query(\"CO2_conc==389&N2O_conc==323\").Net/(np.sqrt(OLBL_df.query(\"CO2_conc==389&N2O_conc==323\").CH4_conc) - np.sqrt(1800))).dropna().mean())"
   ]
  },
  {
   "cell_type": "code",
   "execution_count": 16,
   "id": "assisted-berkeley",
   "metadata": {},
   "outputs": [
    {
     "name": "stdout",
     "output_type": "stream",
     "text": [
      "N2O f3 =  0.10585479945423873\n"
     ]
    }
   ],
   "source": [
    "print('N2O f3 = ',(OLBL_df.query(\"CO2_conc==389&CH4_conc==1800\").Net/(np.sqrt(OLBL_df.query(\"CO2_conc==389&CH4_conc==1800\").N2O_conc) - np.sqrt(323))).dropna().mean())"
   ]
  },
  {
   "cell_type": "code",
   "execution_count": 17,
   "id": "pacific-savannah",
   "metadata": {},
   "outputs": [],
   "source": [
    "## check errors vs Etminan:\n",
    "\n",
    "OLBL_df['FaIRv2'] = 4.57*np.log(OLBL_df.CO2_conc/389) +\\\n",
    "                    0.086*(np.sqrt(OLBL_df.CO2_conc)-np.sqrt(389)) +\\\n",
    "                    0.038*(np.sqrt(OLBL_df.CH4_conc)-np.sqrt(1800)) +\\\n",
    "                    0.106*(np.sqrt(OLBL_df.N2O_conc)-np.sqrt(323))\n",
    "\n",
    "rf_plot_data = OLBL_df[['CO2_conc','CH4_conc','N2O_conc','Net','rf_SUM','FaIRv2']].set_index(['CO2_conc','CH4_conc','N2O_conc']).sort_index().rename({'Net':'OLBL','rf_SUM':'Etminan'},axis=1)"
   ]
  },
  {
   "cell_type": "code",
   "execution_count": 18,
   "id": "irish-technology",
   "metadata": {},
   "outputs": [],
   "source": [
    "rf_plot_data['Etminan_diff'] = rf_plot_data.Etminan - rf_plot_data.OLBL\n",
    "rf_plot_data['FaIRv2_diff'] = rf_plot_data.FaIRv2 - rf_plot_data.OLBL"
   ]
  },
  {
   "cell_type": "code",
   "execution_count": 19,
   "id": "recreational-northern",
   "metadata": {},
   "outputs": [],
   "source": [
    "rf_plot_data = pd.concat([rf_plot_data.set_index('OLBL',append=True)[['Etminan','Etminan_diff']].rename({'Etminan':'abs','Etminan_diff':'diff'},axis=1),\n",
    "           rf_plot_data.set_index('OLBL',append=True)[['FaIRv2','FaIRv2_diff']].rename({'FaIRv2':'abs','FaIRv2_diff':'diff'},axis=1)],\n",
    "          axis=0,keys=['Etminan','FaIRv2'],names=['source'])"
   ]
  },
  {
   "cell_type": "markdown",
   "id": "external-dispatch",
   "metadata": {},
   "source": [
    "set some matplotlib rcParams"
   ]
  },
  {
   "cell_type": "code",
   "execution_count": 20,
   "id": "swedish-moscow",
   "metadata": {},
   "outputs": [],
   "source": [
    "matplotlib.rcParams['font.family']='Helvetica'\n",
    "matplotlib.rcParams['font.size']=11\n",
    "\n",
    "matplotlib.rcParams['axes.formatter.limits']=-3,3\n",
    "\n",
    "matplotlib.rcParams['legend.frameon']=False\n",
    "\n",
    "plt.rcParams['pdf.fonttype'] = 42"
   ]
  },
  {
   "cell_type": "code",
   "execution_count": 21,
   "id": "structural-formation",
   "metadata": {},
   "outputs": [
    {
     "name": "stderr",
     "output_type": "stream",
     "text": [
      "findfont: Font family ['Helvetica'] not found. Falling back to DejaVu Sans.\n",
      "findfont: Font family ['Helvetica'] not found. Falling back to DejaVu Sans.\n"
     ]
    },
    {
     "data": {
      "text/plain": [
       "''"
      ]
     },
     "execution_count": 21,
     "metadata": {},
     "output_type": "execute_result"
    },
    {
     "data": {
      "image/png": "[encoded data removed]",
      "text/plain": [
       "<Figure size 1560.55x360 with 4 Axes>"
      ]
     },
     "metadata": {
      "needs_background": "light"
     },
     "output_type": "display_data"
    }
   ],
   "source": [
    "g=sn.relplot(data=rf_plot_data.reset_index().rename({'CO2_conc':'CO$_2$ concentration','CH4_conc':'CH$_4$ concentration','N2O_conc':'N$_2$O concentration'},axis=1),\n",
    "             x='OLBL',\n",
    "             y='diff',\n",
    "             col='CO$_2$ concentration',\n",
    "             hue='CH$_4$ concentration',\n",
    "             size='source',\n",
    "             size_order=['FaIRv2','Etminan'],\n",
    "             style='N$_2$O concentration',\n",
    "             facet_kws=dict(sharex=False),\n",
    "             palette='tab10')\n",
    "\n",
    "g.set(ylim=[-0.2,0.2],ylabel='Difference from OLBL / W m$^{-2}$',xlabel='OLBL / W m$^{-2}$')\n",
    "g.set_titles(col_template=\"CO$_2$ concentration = {col_name} ppm\",fontweight='bold')\n",
    "[a.axhline(0,ls=':',lw=1,color='k',alpha=0.5) for a in g.axes.flatten()]\n",
    "\n",
    "[g.fig.savefig('../../docs/manuscript/figures/FigS1.'+x,dpi=600,bbox_inches='tight') for x in ['png','pdf']]\n",
    "''"
   ]
  },
  {
   "cell_type": "markdown",
   "id": "liquid-yesterday",
   "metadata": {},
   "source": [
    "## Aerosol forcing\n",
    "\n",
    "Rather than select parameters from (eg.) literature values, or tune to specific datasets, for consistency throughout the FaIRv2.0.0 study we will use the central estimate from the constrained perturbed parameter ensemble (see `FULL-compute`, `global-warming-index` & `FULL-constrain` notebooks) as the default aerosol parameters."
   ]
  },
  {
   "cell_type": "code",
   "execution_count": 22,
   "id": "primary-contents",
   "metadata": {},
   "outputs": [
    {
     "ename": "FileNotFoundError",
     "evalue": "File ../../aux/parameter-sets/perturbed-parameters/FULL_selection_probability-HadCRUT5.h5 does not exist",
     "output_type": "error",
     "traceback": [
      "\u001b[0;31m---------------------------------------------------------------------------\u001b[0m",
      "\u001b[0;31mFileNotFoundError\u001b[0m                         Traceback (most recent call last)",
      "\u001b[0;32m<ipython-input-22-6dbe46066df0>\u001b[0m in \u001b[0;36m<module>\u001b[0;34m\u001b[0m\n\u001b[1;32m      2\u001b[0m \u001b[0mdatasets_to_use\u001b[0m \u001b[0;34m=\u001b[0m \u001b[0;34m[\u001b[0m\u001b[0;34m'HadCRUT5'\u001b[0m\u001b[0;34m,\u001b[0m\u001b[0;34m'HadCRUT4'\u001b[0m\u001b[0;34m,\u001b[0m\u001b[0;34m'NOAA'\u001b[0m\u001b[0;34m,\u001b[0m\u001b[0;34m'GISTEMP'\u001b[0m\u001b[0;34m,\u001b[0m\u001b[0;34m'CW'\u001b[0m\u001b[0;34m,\u001b[0m\u001b[0;34m'BERKELEY'\u001b[0m\u001b[0;34m]\u001b[0m\u001b[0;34m\u001b[0m\u001b[0;34m\u001b[0m\u001b[0m\n\u001b[1;32m      3\u001b[0m \u001b[0;34m\u001b[0m\u001b[0m\n\u001b[0;32m----> 4\u001b[0;31m \u001b[0mFULL_probabilities\u001b[0m \u001b[0;34m=\u001b[0m \u001b[0mpd\u001b[0m\u001b[0;34m.\u001b[0m\u001b[0mconcat\u001b[0m\u001b[0;34m(\u001b[0m\u001b[0;34m[\u001b[0m\u001b[0mpd\u001b[0m\u001b[0;34m.\u001b[0m\u001b[0mread_hdf\u001b[0m\u001b[0;34m(\u001b[0m\u001b[0;34m'../../aux/parameter-sets/perturbed-parameters/FULL_selection_probability-'\u001b[0m\u001b[0;34m+\u001b[0m\u001b[0mx\u001b[0m\u001b[0;34m+\u001b[0m\u001b[0;34m'.h5'\u001b[0m\u001b[0;34m)\u001b[0m \u001b[0;32mfor\u001b[0m \u001b[0mx\u001b[0m \u001b[0;32min\u001b[0m \u001b[0mdatasets_to_use\u001b[0m\u001b[0;34m]\u001b[0m\u001b[0;34m,\u001b[0m\u001b[0maxis\u001b[0m\u001b[0;34m=\u001b[0m\u001b[0;36m1\u001b[0m\u001b[0;34m,\u001b[0m\u001b[0mkeys\u001b[0m\u001b[0;34m=\u001b[0m\u001b[0mdatasets_to_use\u001b[0m\u001b[0;34m)\u001b[0m\u001b[0;34m\u001b[0m\u001b[0;34m\u001b[0m\u001b[0m\n\u001b[0m\u001b[1;32m      5\u001b[0m \u001b[0mFULL_ensemble_selection\u001b[0m \u001b[0;34m=\u001b[0m \u001b[0mFULL_probabilities\u001b[0m\u001b[0;34m.\u001b[0m\u001b[0mmean\u001b[0m\u001b[0;34m(\u001b[0m\u001b[0maxis\u001b[0m\u001b[0;34m=\u001b[0m\u001b[0;36m1\u001b[0m\u001b[0;34m)\u001b[0m\u001b[0;34m>\u001b[0m\u001b[0mnp\u001b[0m\u001b[0;34m.\u001b[0m\u001b[0mrandom\u001b[0m\u001b[0;34m.\u001b[0m\u001b[0mrandom\u001b[0m\u001b[0;34m(\u001b[0m\u001b[0mFULL_probabilities\u001b[0m\u001b[0;34m.\u001b[0m\u001b[0mshape\u001b[0m\u001b[0;34m[\u001b[0m\u001b[0;36m0\u001b[0m\u001b[0;34m]\u001b[0m\u001b[0;34m)\u001b[0m\u001b[0;34m\u001b[0m\u001b[0;34m\u001b[0m\u001b[0m\n\u001b[1;32m      6\u001b[0m \u001b[0;34m\u001b[0m\u001b[0m\n",
      "\u001b[0;32m<ipython-input-22-6dbe46066df0>\u001b[0m in \u001b[0;36m<listcomp>\u001b[0;34m(.0)\u001b[0m\n\u001b[1;32m      2\u001b[0m \u001b[0mdatasets_to_use\u001b[0m \u001b[0;34m=\u001b[0m \u001b[0;34m[\u001b[0m\u001b[0;34m'HadCRUT5'\u001b[0m\u001b[0;34m,\u001b[0m\u001b[0;34m'HadCRUT4'\u001b[0m\u001b[0;34m,\u001b[0m\u001b[0;34m'NOAA'\u001b[0m\u001b[0;34m,\u001b[0m\u001b[0;34m'GISTEMP'\u001b[0m\u001b[0;34m,\u001b[0m\u001b[0;34m'CW'\u001b[0m\u001b[0;34m,\u001b[0m\u001b[0;34m'BERKELEY'\u001b[0m\u001b[0;34m]\u001b[0m\u001b[0;34m\u001b[0m\u001b[0;34m\u001b[0m\u001b[0m\n\u001b[1;32m      3\u001b[0m \u001b[0;34m\u001b[0m\u001b[0m\n\u001b[0;32m----> 4\u001b[0;31m \u001b[0mFULL_probabilities\u001b[0m \u001b[0;34m=\u001b[0m \u001b[0mpd\u001b[0m\u001b[0;34m.\u001b[0m\u001b[0mconcat\u001b[0m\u001b[0;34m(\u001b[0m\u001b[0;34m[\u001b[0m\u001b[0mpd\u001b[0m\u001b[0;34m.\u001b[0m\u001b[0mread_hdf\u001b[0m\u001b[0;34m(\u001b[0m\u001b[0;34m'../../aux/parameter-sets/perturbed-parameters/FULL_selection_probability-'\u001b[0m\u001b[0;34m+\u001b[0m\u001b[0mx\u001b[0m\u001b[0;34m+\u001b[0m\u001b[0;34m'.h5'\u001b[0m\u001b[0;34m)\u001b[0m \u001b[0;32mfor\u001b[0m \u001b[0mx\u001b[0m \u001b[0;32min\u001b[0m \u001b[0mdatasets_to_use\u001b[0m\u001b[0;34m]\u001b[0m\u001b[0;34m,\u001b[0m\u001b[0maxis\u001b[0m\u001b[0;34m=\u001b[0m\u001b[0;36m1\u001b[0m\u001b[0;34m,\u001b[0m\u001b[0mkeys\u001b[0m\u001b[0;34m=\u001b[0m\u001b[0mdatasets_to_use\u001b[0m\u001b[0;34m)\u001b[0m\u001b[0;34m\u001b[0m\u001b[0;34m\u001b[0m\u001b[0m\n\u001b[0m\u001b[1;32m      5\u001b[0m \u001b[0mFULL_ensemble_selection\u001b[0m \u001b[0;34m=\u001b[0m \u001b[0mFULL_probabilities\u001b[0m\u001b[0;34m.\u001b[0m\u001b[0mmean\u001b[0m\u001b[0;34m(\u001b[0m\u001b[0maxis\u001b[0m\u001b[0;34m=\u001b[0m\u001b[0;36m1\u001b[0m\u001b[0;34m)\u001b[0m\u001b[0;34m>\u001b[0m\u001b[0mnp\u001b[0m\u001b[0;34m.\u001b[0m\u001b[0mrandom\u001b[0m\u001b[0;34m.\u001b[0m\u001b[0mrandom\u001b[0m\u001b[0;34m(\u001b[0m\u001b[0mFULL_probabilities\u001b[0m\u001b[0;34m.\u001b[0m\u001b[0mshape\u001b[0m\u001b[0;34m[\u001b[0m\u001b[0;36m0\u001b[0m\u001b[0;34m]\u001b[0m\u001b[0;34m)\u001b[0m\u001b[0;34m\u001b[0m\u001b[0;34m\u001b[0m\u001b[0m\n\u001b[1;32m      6\u001b[0m \u001b[0;34m\u001b[0m\u001b[0m\n",
      "\u001b[0;32m/nfs/a65/pmcjs/miniconda3/envs/leach2021/lib/python3.7/site-packages/pandas/io/pytables.py\u001b[0m in \u001b[0;36mread_hdf\u001b[0;34m(path_or_buf, key, mode, errors, where, start, stop, columns, iterator, chunksize, **kwargs)\u001b[0m\n\u001b[1;32m    395\u001b[0m \u001b[0;34m\u001b[0m\u001b[0m\n\u001b[1;32m    396\u001b[0m         \u001b[0;32mif\u001b[0m \u001b[0;32mnot\u001b[0m \u001b[0mexists\u001b[0m\u001b[0;34m:\u001b[0m\u001b[0;34m\u001b[0m\u001b[0;34m\u001b[0m\u001b[0m\n\u001b[0;32m--> 397\u001b[0;31m             \u001b[0;32mraise\u001b[0m \u001b[0mFileNotFoundError\u001b[0m\u001b[0;34m(\u001b[0m\u001b[0;34mf\"File {path_or_buf} does not exist\"\u001b[0m\u001b[0;34m)\u001b[0m\u001b[0;34m\u001b[0m\u001b[0;34m\u001b[0m\u001b[0m\n\u001b[0m\u001b[1;32m    398\u001b[0m \u001b[0;34m\u001b[0m\u001b[0m\n\u001b[1;32m    399\u001b[0m         \u001b[0mstore\u001b[0m \u001b[0;34m=\u001b[0m \u001b[0mHDFStore\u001b[0m\u001b[0;34m(\u001b[0m\u001b[0mpath_or_buf\u001b[0m\u001b[0;34m,\u001b[0m \u001b[0mmode\u001b[0m\u001b[0;34m=\u001b[0m\u001b[0mmode\u001b[0m\u001b[0;34m,\u001b[0m \u001b[0merrors\u001b[0m\u001b[0;34m=\u001b[0m\u001b[0merrors\u001b[0m\u001b[0;34m,\u001b[0m \u001b[0;34m**\u001b[0m\u001b[0mkwargs\u001b[0m\u001b[0;34m)\u001b[0m\u001b[0;34m\u001b[0m\u001b[0;34m\u001b[0m\u001b[0m\n",
      "\u001b[0;31mFileNotFoundError\u001b[0m: File ../../aux/parameter-sets/perturbed-parameters/FULL_selection_probability-HadCRUT5.h5 does not exist"
     ]
    }
   ],
   "source": [
    "## choose the datasets to use here:\n",
    "datasets_to_use = ['HadCRUT5','HadCRUT4','NOAA','GISTEMP','CW','BERKELEY']\n",
    "\n",
    "FULL_probabilities = pd.concat([pd.read_hdf('../../aux/parameter-sets/perturbed-parameters/FULL_selection_probability-'+x+'.h5') for x in datasets_to_use],axis=1,keys=datasets_to_use)\n",
    "FULL_ensemble_selection = FULL_probabilities.mean(axis=1)>np.random.random(FULL_probabilities.shape[0])\n",
    "\n",
    "ALL_mems = [x.split('/')[-1].split('.')[0] for x in glob.glob('../../aux/parameter-sets/perturbed-parameters/gas_params/*.h5')]\n",
    "\n",
    "CONSTRAINED_f_aer = []\n",
    "\n",
    "for mem_range in ALL_mems:\n",
    "    \n",
    "    CONSTRAINED_f_aer += [pd.read_hdf('../../aux/parameter-sets/perturbed-parameters/gas_params/'+mem_range+'.h5').reindex(['f1','f2','f3','PI_conc']).reindex(['so2','so2|aci','oc','oc|aci','bc','bc|aci'],axis=1,level=1)]\n",
    "    \n",
    "CONSTRAINED_f_aer = pd.concat(CONSTRAINED_f_aer,axis=1).reindex(FULL_ensemble_selection.index[FULL_ensemble_selection],axis=1,level=0)"
   ]
  },
  {
   "cell_type": "code",
   "execution_count": null,
   "id": "clinical-uniform",
   "metadata": {},
   "outputs": [],
   "source": [
    "## get aerosol emissions to validate\n",
    "aer_emms = RCMIP_to_FaIR_input_emms('ssp245').interpolate().loc[1750:2300,['so2','bc','oc']]\n",
    "aer_emms -= aer_emms.loc[1750]\n",
    "\n",
    "aer_defaults = CONSTRAINED_f_aer.groupby(axis=1,level=1).median()"
   ]
  },
  {
   "cell_type": "code",
   "execution_count": null,
   "id": "greatest-mention",
   "metadata": {},
   "outputs": [],
   "source": [
    "default_ERFari = (aer_emms*aer_defaults.loc['f2']).sum(axis=1)\n",
    "default_ERFaci = aer_defaults.loc['f1','so2|aci']*np.log(1+aer_emms.so2/aer_defaults.loc['PI_conc','so2'])+\\\n",
    "                 aer_defaults.loc['f2','oc|aci']*aer_emms.oc+\\\n",
    "                 aer_defaults.loc['f2','bc|aci']*aer_emms.bc\n",
    "\n",
    "default_ERFari.plot(label='ERFari',c='lightgrey')\n",
    "default_ERFaci.plot(label='ERFaci',c='grey')\n",
    "(default_ERFaci+default_ERFari).plot(label='ERFaerTot',c='k')\n",
    "plt.legend()"
   ]
  },
  {
   "cell_type": "code",
   "execution_count": null,
   "id": "extraordinary-collins",
   "metadata": {},
   "outputs": [],
   "source": [
    "aer_defaults"
   ]
  },
  {
   "cell_type": "markdown",
   "id": "atlantic-authorization",
   "metadata": {},
   "source": [
    "## Ozone forcing\n",
    "\n",
    "For ozone forcing, we use recent updates from [Thornhill et al., 2021](https://acp.copernicus.org/articles/21/853/2021/), & [Skeie et al., 2021.](https://doi.org/10.1038/s41612-020-00131-0). Thornhill et al. provides radiative efficiency coefficients for contributions to ozone forcing from CH4, NOx, CO+NMVOCs, N2O and ODSs. Skeie et al. provides historical timeseries of ozone forcing.\n",
    "\n",
    "References:\n",
    "\n",
    "Skeie, R. B., Myhre, G., Hodnebrog, Ø., Cameron-Smith, P. J., Deushi, M., Hegglin, M. I., … Wu, T. (2020). Historical total ozone radiative forcing derived from CMIP6 simulations. Npj Climate and Atmospheric Science, 3(1), 1–10. https://doi.org/10.1038/s41612-020-00131-0\n",
    "\n",
    "Thornhill, G. D., Collins, W. J., Kramer, R. J., Olivié, D., Skeie, R. B., O’Connor, F. M., … Zhang, J. (2021). Effective radiative forcing from emissions of reactive gases and aerosols – a multi-model comparison. Atmospheric Chemistry and Physics, 21(2), 853–874. https://doi.org/10.5194/acp-21-853-2021"
   ]
  },
  {
   "cell_type": "markdown",
   "id": "bright-coordinate",
   "metadata": {},
   "source": [
    "### import data"
   ]
  },
  {
   "cell_type": "code",
   "execution_count": null,
   "id": "textile-uncle",
   "metadata": {},
   "outputs": [],
   "source": [
    "## ozone timeseries:\n",
    "def get_skeie_ts(fname):\n",
    "    data = pd.read_csv(fname,skiprows=3,sep=';',index_col=0)['NET adj.']\n",
    "    data.index = [int(x[:4]) for x in data.index]\n",
    "    data.name = fname.split('/')[-1].split('_')[2]\n",
    "    return data/1000\n",
    "\n",
    "skeie_files = glob.glob('../../aux/input-data/_hidden/histO3/Kernel_output/TotRF/CMIP6/*.csv')\n",
    "\n",
    "skeie_o3_data = pd.concat([get_skeie_ts(x) for x in skeie_files],axis=1)\n",
    "\n",
    "oslo_CTM_data = get_skeie_ts('../../aux/input-data/_hidden/histO3/Kernel_output/TotRF/OsloCTM3/RF_NRFmethod_OsloCTM3_net_yearly.csv')\n",
    "skeie_o3_data = pd.concat([skeie_o3_data,oslo_CTM_data],axis=1)"
   ]
  },
  {
   "cell_type": "code",
   "execution_count": null,
   "id": "juvenile-angel",
   "metadata": {},
   "outputs": [],
   "source": [
    "good_models = ['BCC-ESM1', 'CESM2-WACCM', 'GFDL-ESM4', 'GISS-E2-1-H', 'MRI-ESM2-0', 'OsloCTM3']\n",
    "\n",
    "# take multi-model mean of \"good\" models\n",
    "skeie_o3_ts = skeie_o3_data[good_models].mean(axis=1).replace(np.nan,0)\n",
    "skeie_o3_ts.loc[1750] = -0.03\n",
    "skeie_o3_ts.sort_index(inplace=True)\n",
    "\n",
    "# remove OsloCTM3 bias relative to MMM for 2014-> data\n",
    "skeie_o3_ts.loc[2014:] += skeie_o3_data.loc[2010,good_models].mean() - skeie_o3_data.loc[2010,'OsloCTM3']"
   ]
  },
  {
   "cell_type": "markdown",
   "id": "mechanical-casting",
   "metadata": {},
   "source": [
    "Thornhill et al., 2021 contributions to 1850-2014 O$_3$ RF are as follows:\n",
    "\n",
    "species|contribution\n",
    "---|---\n",
    "CH4|0.14\n",
    "NOx|0.2\n",
    "CO+NMVOC|0.11\n",
    "CO|0.067\n",
    "NMVOC|0.043\n",
    "N2O|0.03\n",
    "ODS|-0.11\n",
    "Tot|0.37\n",
    "\n",
    "Note the disaggregation of CO+NMVOC is based on Stevenson et al., 2013.\n",
    "\n",
    "References:\n",
    "\n",
    "Stevenson, D. S., Young, P. J., Naik, V., Lamarque, J.-F., Shindell, D. T., Voulgarakis, A., … Archibald, A. (2013). Tropospheric ozone changes, radiative forcing and attribution to emissions in the Atmospheric Chemistry and Climate Model Intercomparison Project (ACCMIP). Atmospheric Chemistry and Physics, 13(6), 3063–3085. https://doi.org/10.5194/acp-13-3063-2013"
   ]
  },
  {
   "cell_type": "code",
   "execution_count": null,
   "id": "complete-corrections",
   "metadata": {},
   "outputs": [],
   "source": [
    "# scale Thornhill coefficients to reproduce the Skeie timeseries\n",
    "skeie_th_sf = skeie_o3_ts.loc[2014]/0.37"
   ]
  },
  {
   "cell_type": "code",
   "execution_count": null,
   "id": "sealed-token",
   "metadata": {},
   "outputs": [],
   "source": [
    "# CH4 sensitivity:\n",
    "print('ch4|o3 f2 :',skeie_th_sf*0.14/(WMGHG_concs.methane.loc[2014]-WMGHG_concs.methane.loc[1850]))"
   ]
  },
  {
   "cell_type": "code",
   "execution_count": null,
   "id": "scheduled-classification",
   "metadata": {},
   "outputs": [],
   "source": [
    "# NOx sensitivity\n",
    "print('nox|o3 f2 :',skeie_th_sf*0.2/(RCMIP_emissions.nox.loc[2014]-RCMIP_emissions.nox.loc[1850]))"
   ]
  },
  {
   "cell_type": "code",
   "execution_count": null,
   "id": "sexual-monroe",
   "metadata": {},
   "outputs": [],
   "source": [
    "# CO sensitivity\n",
    "print('co|o3 f2 :',skeie_th_sf*0.067/(RCMIP_emissions.co.loc[2014]-RCMIP_emissions.co.loc[1850]))"
   ]
  },
  {
   "cell_type": "code",
   "execution_count": null,
   "id": "complete-signature",
   "metadata": {},
   "outputs": [],
   "source": [
    "# NMVOC sensitivity\n",
    "print('mnvoc|o3 f2 :',skeie_th_sf*0.043/(RCMIP_emissions.nmvoc.loc[2014]-RCMIP_emissions.nmvoc.loc[1850]))"
   ]
  },
  {
   "cell_type": "code",
   "execution_count": null,
   "id": "portable-delay",
   "metadata": {},
   "outputs": [],
   "source": [
    "# NMVOC sensitivity\n",
    "print('n2o|o3 f2 :',skeie_th_sf*0.03/(WMGHG_concs.nitrous_oxide.loc[2014]-WMGHG_concs.nitrous_oxide.loc[1850]))"
   ]
  },
  {
   "cell_type": "markdown",
   "id": "departmental-humanity",
   "metadata": {},
   "source": [
    "For ODS sensitivity, we parameterise the contribution of individual ODSs via their contribution to estimated equivalent effective stratospheric chlorine (eesc, [Velders et al., 2014](https://doi.org/10.5194/acp-14-2757-2014)).\n",
    "\n",
    "The estimated contribution to eesc is:\n",
    "\n",
    "$$\n",
    "\\text{eesc} = \\bar{f} * ( n_{\\text{Cl}} + 45 * n_{\\text{Br}} )\n",
    "$$\n",
    "\n",
    "with $\\bar{f}$ as the time-independent fractional release factor ([Engel et al., 2018](https://doi.org/10.5194/acp-18-601-2018)), and $n_x$ as the number of atoms of that element in the specie.\n",
    "\n",
    "References:\n",
    "\n",
    "Velders, G. J. M., & Daniel, J. S. (2014). Uncertainty analysis of projections of ozone-depleting substances: Mixing ratios, EESC, ODPs, and GWPs. Atmospheric Chemistry and Physics, 14(6), 2757–2776. https://doi.org/10.5194/acp-14-2757-2014\n",
    "\n",
    "Engel, A., Bönisch, H., Ostermöller, J., Chipperfield, M. P., Dhomse, S., & Jöckel, P. (2018). A refined method for calculating equivalent effective stratospheric chlorine. Atmospheric Chemistry and Physics, 18(2), 601–619. https://doi.org/10.5194/acp-18-601-2018"
   ]
  },
  {
   "cell_type": "code",
   "execution_count": null,
   "id": "everyday-bridge",
   "metadata": {},
   "outputs": [],
   "source": [
    "ODS = ['carbon_tetrachloride', 'cfc113', 'cfc114', 'cfc115', 'cfc11', 'cfc12', 'ch3ccl3', 'halon1211', 'halon1301', 'halon2402', 'hcfc141b', 'hcfc142b', 'hcfc22', 'methyl_bromide', 'methyl_chloride', 'halon1202','chcl3','ch2cl2']\n",
    "n_Cl = pd.Series(dict(zip(ODS,[4,3,2,1,3,2,3,0,0,0,2,1,1,0,1,0,3,2])))\n",
    "n_Br = pd.Series(dict(zip(ODS,[0,0,0,0,0,0,0,1,1,2,0,0,0,1,0,2,0,0])))\n",
    "frac_rel = pd.Series(dict(zip(ODS,[0.56,0.3,0.13,0.07,0.47,0.24,0.61,0.65,0.32,0.66,0.34,0.17,0.15,0.6,0.44,0.67,0,0])))"
   ]
  },
  {
   "cell_type": "code",
   "execution_count": null,
   "id": "ceramic-george",
   "metadata": {},
   "outputs": [],
   "source": [
    "eesc = (WMGHG_concs.loc[2014,ODS]-WMGHG_concs.loc[1850,ODS]) * frac_rel * (n_Cl + 45*n_Br)"
   ]
  },
  {
   "cell_type": "code",
   "execution_count": null,
   "id": "induced-singing",
   "metadata": {},
   "outputs": [],
   "source": [
    "ODS_o3_re = eesc*skeie_th_sf*-0.11/eesc.sum() / (WMGHG_concs.loc[2014,ODS]-WMGHG_concs.loc[1850,ODS])\n",
    "print('ODS|o3 f2 :')\n",
    "print(ODS_o3_re)"
   ]
  },
  {
   "cell_type": "markdown",
   "id": "normal-transcription",
   "metadata": {},
   "source": [
    "## Stratospheric water vapour\n",
    "Parameterised as a linear function of CH4 concentrations."
   ]
  },
  {
   "cell_type": "code",
   "execution_count": null,
   "id": "lucky-national",
   "metadata": {},
   "outputs": [],
   "source": [
    "print('methane|strat_h2o f2:',0.05 / (WMGHG_concs.methane.loc[2019]-WMGHG_concs.methane.loc[1750]))"
   ]
  },
  {
   "cell_type": "markdown",
   "id": "strategic-terminal",
   "metadata": {},
   "source": [
    "## Black Carbon on snow\n",
    "Parameterised as a linear function of black carbon emissions."
   ]
  },
  {
   "cell_type": "code",
   "execution_count": null,
   "id": "settled-darwin",
   "metadata": {},
   "outputs": [],
   "source": [
    "print('bc|bc_on_snow f2:',0.08 / (RCMIP_emissions.bc.loc[2019]-RCMIP_emissions.bc.loc[1750]))"
   ]
  },
  {
   "cell_type": "markdown",
   "id": "innocent-artist",
   "metadata": {},
   "source": [
    "## Contrail forcing\n",
    "Parameterised as a linear function of NOx emissions from aviation. 2018 value taken from [Lee et al., 2021](https://www.sciencedirect.com/science/article/pii/S1352231020305689)\n",
    "\n",
    "Reference:\n",
    "\n",
    "Lee, D. S., Fahey, D. W., Skowron, A., Allen, M. R., Burkhardt, U., Chen, Q., … Wilcox, L. J. (2021). The contribution of global aviation to anthropogenic climate forcing for 2000 to 2018. Atmospheric Environment, 244, 117834. https://doi.org/10.1016/j.atmosenv.2020.117834"
   ]
  },
  {
   "cell_type": "code",
   "execution_count": null,
   "id": "awful-brave",
   "metadata": {},
   "outputs": [],
   "source": [
    "print('nox_avi|contrails f2:',0.0574 / (RCMIP_emissions.nox_avi.loc[2018]-RCMIP_emissions.nox_avi.loc[1750]))"
   ]
  },
  {
   "cell_type": "markdown",
   "id": "advisory-berry",
   "metadata": {},
   "source": [
    "# III. Climate response parameters\n",
    "\n",
    "Rather than select parameters from (eg.) literature values, or tune to specific datasets, for consistency throughout the FaIRv2.0.0 study we will use the central estimates of TCR & ECS from the constrained perturbed parameter ensemble (see `FULL-compute`, `global-warming-index` & `FULL-constrain` notebooks) for the default climate response parameters."
   ]
  },
  {
   "cell_type": "code",
   "execution_count": null,
   "id": "pharmaceutical-lighting",
   "metadata": {},
   "outputs": [],
   "source": [
    "## choose the datasets to use here:\n",
    "datasets_to_use = ['HadCRUT5','HadCRUT4','NOAA','GISTEMP','CW','BERKELEY']\n",
    "\n",
    "FULL_probabilities = pd.concat([pd.read_hdf('../../aux/parameter-sets/perturbed-parameters/FULL_selection_probability-'+x+'.h5') for x in datasets_to_use],axis=1,keys=datasets_to_use)\n",
    "FULL_ensemble_selection = FULL_probabilities.mean(axis=1)>np.random.random(FULL_probabilities.shape[0])\n",
    "\n",
    "ALL_mems = [x.split('/')[-1].split('.')[0] for x in glob.glob('../../aux/parameter-sets/perturbed-parameters/gas_params/*.h5')]\n",
    "\n",
    "CONSTRAINED_thermal = []\n",
    "\n",
    "for mem_range in ALL_mems:\n",
    "    \n",
    "    CONSTRAINED_thermal += [pd.read_hdf('../../aux/parameter-sets/perturbed-parameters/climresp_params/FULL/'+mem_range+'.h5')]\n",
    "    \n",
    "CONSTRAINED_thermal = pd.concat(CONSTRAINED_thermal,axis=1).reindex(FULL_ensemble_selection.index[FULL_ensemble_selection],axis=1,level=0)"
   ]
  },
  {
   "cell_type": "code",
   "execution_count": null,
   "id": "lined-canadian",
   "metadata": {},
   "outputs": [],
   "source": [
    "## just using central parameter estimates results in a slightly lowered TCR / ECS relative to the ensemble median\n",
    "## therefore use central estimates for d1-3, q1; and set q2, q3 to return \"correct\" TCR/ECS values\n",
    "d1 = 0.903\n",
    "d2 = 7.92\n",
    "d3 = 355\n",
    "q1 = 0.180\n",
    "\n",
    "TCR = 1.79\n",
    "ECS = 3.24\n",
    "F_2x = 3.759\n",
    "\n",
    "v1 = (1-(d1/69.66) * (1-np.exp(-69.66/d1)) )\n",
    "v2 = (1-(d2/69.66) * (1-np.exp(-69.66/d2)) )\n",
    "v3 = (1-(d3/69.66) * (1-np.exp(-69.66/d3)) )\n",
    "\n",
    "q3 = (((TCR/F_2x) - q1*(v1-v2) - (ECS/F_2x)*v2) / (v3-v2))\n",
    "q2 = (ECS/F_2x - q1 -  q3)\n",
    "\n",
    "pd.DataFrame([[d1,d2,d3],[q1,q2,q3]],index=['d','q'],columns=pd.MultiIndex.from_product([['default'],[1,2,3]]))"
   ]
  },
  {
   "cell_type": "markdown",
   "id": "technical-liberia",
   "metadata": {},
   "source": [
    "# Bring it all together & save default parameter set!"
   ]
  },
  {
   "cell_type": "code",
   "execution_count": null,
   "id": "independent-plasma",
   "metadata": {},
   "outputs": [],
   "source": [
    "default_params = pd.DataFrame(columns=WMGHG_concs.columns,index=['a1', 'a2', 'a3', 'a4', 'tau1', 'tau2', 'tau3', 'tau4', 'r0', 'rC','rT', 'rA', 'PI_conc', 'emis2conc', 'f1', 'f2', 'f3'])\n",
    "\n",
    "#CO2\n",
    "default_params.loc[:,'carbon_dioxide'] = [0.2173,0.2240,0.2824,0.2763,1e9,394.4,36.54,4.304,33.9,0.0188,2.67,0,278,28.966/(5.148 * 12),4.57,0,0.086]\n",
    "\n",
    "#CH4\n",
    "default_params.loc[:,'methane'] = [1,0,0,0,8.25,0,0,0,8.25,0,-0.3,0.00032,720,28.966/(5.148 * 16),0,0,0.038]\n",
    "\n",
    "#N2O (measured in N2O-N2)\n",
    "default_params.loc[:,'nitrous_oxide'] = [1,0,0,0,100,0,0,0,63.2,0,0,0,270,28.966/(5.148 * 28),0,0,0.106]\n",
    "\n",
    "#Other WMGHGs\n",
    "default_params.loc[:,WMGHG_data.dropna().index] = 0\n",
    "default_params.loc['a1',WMGHG_data.dropna().index] = 1\n",
    "\n",
    "## the r0 calculation for very large tau values is unstable due to float limits, so we scale the tau values by 1/100\n",
    "default_params.loc['tau1',WMGHG_data.dropna().index] = WMGHG_data.dropna().tau/100\n",
    "g1 = (WMGHG_data.dropna().tau/100) * ( 1. - ( 1. + 100/(WMGHG_data.dropna().tau/100) ) * np.exp(-100/(WMGHG_data.dropna().tau/100)) )\n",
    "g0 = np.exp( - (WMGHG_data.dropna().tau/100) * ( 1. - np.exp(-100/(WMGHG_data.dropna().tau/100)) )  / g1 )\n",
    "default_params.loc['r0',WMGHG_data.dropna().index] = g1*np.log(100/g0)\n",
    "default_params.loc['PI_conc',WMGHG_data.dropna().index] =  1e-15 + WMGHG_concs.loc[1750,WMGHG_data.dropna().index]\n",
    "default_params.loc['emis2conc',WMGHG_data.dropna().index] = 28.966/(5.148 * WMGHG_data.dropna().MW)\n",
    "default_params.loc['f2',WMGHG_data.dropna().index] = WMGHG_data.dropna().RE\n",
    "\n",
    "#Aerosols (CONSTRAINED central estimates)\n",
    "## note that the emis2conc is 1 since emissions are converted directly to concs\n",
    "## the emissions units are: MtSO2, MtNO2, MtCO, MtNMVOC\n",
    "default_params.loc[:,'so2'] = [1,0,0,0,1,0,0,0,1,0,0,0,170.6,1,0,-0.004740,0]\n",
    "default_params.loc[:,'nox'] = [1,0,0,0,1,0,0,0,1,0,0,0,1e-15,1,0,0,0]\n",
    "default_params.loc[:,'nox_avi'] = [1,0,0,0,1,0,0,0,1,0,0,0,1e-15,1,0,0,0]\n",
    "default_params.loc[:,'co'] = [1,0,0,0,1,0,0,0,1,0,0,0,1e-15,1,0,0,0]\n",
    "default_params.loc[:,'nmvoc'] = [1,0,0,0,1,0,0,0,1,0,0,0,1e-15,1,0,0,0]\n",
    "default_params.loc[:,'bc'] = [1,0,0,0,1,0,0,0,1,0,0,0,1e-15,1,0,0.056672,0]\n",
    "default_params.loc[:,'nh3'] = [1,0,0,0,1,0,0,0,1,0,0,0,1e-15,1,0,0,0]\n",
    "default_params.loc[:,'oc'] = [1,0,0,0,1,0,0,0,1,0,0,0,1e-15,1,0,-0.017649,0]\n",
    "\n",
    "for species in default_params.columns:\n",
    "    if species=='carbon_dioxide':\n",
    "        continue\n",
    "    else:\n",
    "        default_params.loc['tau2':'tau4',species]=1\n",
    "\n",
    "#Ozone RFs\n",
    "default_params.loc[:,'methane|o3'] = np.nan\n",
    "default_params.loc['f1':'f3','methane|o3'] = 0\n",
    "default_params.loc['f2','methane|o3'] = 0.000163\n",
    "\n",
    "default_params.loc[:,'co|o3'] = np.nan\n",
    "default_params.loc['f1':'f3','co|o3'] = 0\n",
    "default_params.loc['f2','co|o3'] = 0.000145\n",
    "\n",
    "default_params.loc[:,'nox|o3'] = np.nan\n",
    "default_params.loc['f1':'f3','nox|o3'] = 0\n",
    "default_params.loc['f2','nox|o3'] = 0.00168\n",
    "\n",
    "default_params.loc[:,'nmvoc|o3'] = np.nan\n",
    "default_params.loc['f1':'f3','nmvoc|o3'] = 0\n",
    "default_params.loc['f2','nmvoc|o3'] = 0.000308\n",
    "\n",
    "default_params.loc[:,'nitrous_oxide|o3'] = np.nan\n",
    "default_params.loc['f1':'f3','nitrous_oxide|o3'] = 0\n",
    "default_params.loc['f2','nitrous_oxide|o3'] = 0.000663\n",
    "\n",
    "#ODS RFs\n",
    "for species in ODS_o3_re.index:\n",
    "    default_params.loc[:,species+'|o3'] = np.nan\n",
    "    default_params.loc['f1':'f3',species+'|o3'] = 0\n",
    "    default_params.loc['f2',species+'|o3'] = ODS_o3_re.loc[species]\n",
    "\n",
    "#strat_h2o\n",
    "default_params.loc[:,'methane|strat_h2o'] = np.nan\n",
    "default_params.loc['f1':'f3','methane|strat_h2o'] = 0\n",
    "default_params.loc['f2','methane|strat_h2o'] = 4.37e-05\n",
    "    \n",
    "#BC on snow\n",
    "default_params.loc[:,'bc|bc_on_snow'] = np.nan\n",
    "default_params.loc['f1':'f3','bc|bc_on_snow'] = 0\n",
    "default_params.loc['f2','bc|bc_on_snow'] = 0.0116\n",
    "\n",
    "#Contrails\n",
    "default_params.loc[:,'nox_avi|contrails'] = np.nan\n",
    "default_params.loc['f1':'f3','nox_avi|contrails'] = 0\n",
    "default_params.loc['f2','nox_avi|contrails'] =  0.0164\n",
    "\n",
    "#ari and aci from CONSTRAINED\n",
    "default_params.loc[:,'so2|aci'] = np.nan\n",
    "default_params.loc['f1':'f3','so2|aci'] = 0\n",
    "default_params.loc['f1','so2|aci'] = -0.955789\n",
    "default_params.loc[:,'bc|aci'] = np.nan\n",
    "default_params.loc['f1':'f3','bc|aci'] = 0\n",
    "default_params.loc['f2','bc|aci'] = -0.008013\n",
    "default_params.loc[:,'oc|aci'] = np.nan\n",
    "default_params.loc['f1':'f3','oc|aci'] = 0\n",
    "default_params.loc['f2','oc|aci'] = -0.008013\n",
    "    \n",
    "default_params = pd.concat([default_params],keys=['default'],axis=1)"
   ]
  },
  {
   "cell_type": "code",
   "execution_count": null,
   "id": "sound-message",
   "metadata": {},
   "outputs": [],
   "source": [
    "## save parameter set\n",
    "# default_params.to_csv('../../aux/parameter-sets/Complete_gas_cycle_params.csv')"
   ]
  },
  {
   "cell_type": "code",
   "execution_count": null,
   "id": "turned-crown",
   "metadata": {},
   "outputs": [],
   "source": [
    "#create a grouper for easy aggregation of RF in future\n",
    "RF_categories = pd.Series(index=default_params.columns.levels[1])\n",
    "\n",
    "RF_categories.loc[['c2f6', 'c3f8', 'c4f10', 'c5f12', 'c6f14', 'c7f16', 'c8f18', 'c_c4f8', 'carbon_tetrachloride', 'cf4', 'cfc113', 'cfc114',\n",
    "                   'cfc115', 'cfc11', 'cfc12', 'ch2cl2', 'ch3ccl3', 'chcl3', 'halon1211',\n",
    "                   'halon1301', 'halon2402', 'hcfc141b', 'hcfc142b', 'hcfc22', 'hfc125',\n",
    "                   'hfc134a', 'hfc143a', 'hfc152a', 'hfc227ea', 'hfc236fa', 'hfc23',\n",
    "                   'hfc245fa', 'hfc32', 'hfc365mfc', 'hfc4310mee' ,'nf3', 'sf6',\n",
    "                   'so2f2', 'halon1202', 'methyl_bromide', 'methyl_chloride']] = 'other_wmghgs'\n",
    "\n",
    "RF_categories.loc['carbon_dioxide'] = 'carbon_dioxide'\n",
    "RF_categories.loc['methane'] = 'methane'\n",
    "RF_categories.loc['nitrous_oxide'] = 'nitrous_oxide'\n",
    "\n",
    "RF_categories.loc[[x for x in RF_categories.index if x.split('|')[-1]=='o3']] = 'ozone'\n",
    "RF_categories.loc[['so2', 'nox', 'nox_avi', 'co', 'nmvoc', 'bc', 'nh3', 'oc']] = 'ari'\n",
    "RF_categories.loc[[x for x in RF_categories.index if x.split('|')[-1]=='aci']] = 'aci'\n",
    "RF_categories.loc[[x for x in RF_categories.index if x.split('|')[-1]=='strat_h2o']] = 'strat_h2o'\n",
    "RF_categories.loc[[x for x in RF_categories.index if x.split('|')[-1]=='contrails']] = 'contrails'\n",
    "RF_categories.loc[[x for x in RF_categories.index if x.split('|')[-1]=='bc_on_snow']] = 'bc_on_snow'\n",
    "\n",
    "RF_categories.to_csv('../../aux/FaIRv2.0.0-alpha_RF_categories.csv')"
   ]
  },
  {
   "cell_type": "markdown",
   "id": "right-camping",
   "metadata": {},
   "source": [
    "Quick sanity test to make sure the default parameters aren't throwing anything crazy:"
   ]
  },
  {
   "cell_type": "code",
   "execution_count": null,
   "id": "speaking-savannah",
   "metadata": {},
   "outputs": [],
   "source": [
    "test_emissions = RCMIP_emissions.copy()\n",
    "rebase_species = ['so2','nox','co','nmvoc','bc','nh3','oc','nox_avi','methyl_bromide','methyl_chloride','chcl3','ch2cl2']\n",
    "test_emissions.loc[:,rebase_species] -= test_emissions.loc[1750,rebase_species]\n",
    "test_emissions = pd.concat([test_emissions],axis=1,keys=['test'])"
   ]
  },
  {
   "cell_type": "code",
   "execution_count": null,
   "id": "fossil-chapel",
   "metadata": {},
   "outputs": [],
   "source": [
    "test_forc = get_RCMIP_forc('ssp245').loc[:2019]\n",
    "test_forc -= test_forc.loc[1750]\n",
    "test_forc = pd.concat([test_forc],axis=1,keys=['test'])"
   ]
  },
  {
   "cell_type": "code",
   "execution_count": null,
   "id": "economic-coverage",
   "metadata": {},
   "outputs": [],
   "source": [
    "default_test = run_FaIR(emissions_in=test_emissions,forcing_in=test_forc,gas_parameters=default_params)"
   ]
  },
  {
   "cell_type": "code",
   "execution_count": null,
   "id": "cordless-rabbit",
   "metadata": {},
   "outputs": [],
   "source": [
    "g = sn.barplot(data=default_test['RF'].groupby(RF_categories.to_dict(),axis=1,level=2).sum().loc[[2019]].T.sort_values(ascending=False,by=2019).rename({2019:'2019 ERF / W m$^{-2}$'},axis=1).reset_index(),\n",
    "               x='Forcing component',\n",
    "               y='2019 ERF / W m$^{-2}$',\n",
    "               palette='Blues')\n",
    "\n",
    "sn.despine()\n",
    "g.axhline(0,color='k',alpha=0.4,ls=':',lw=1)\n",
    "g.set_xticklabels(g.get_xticklabels(),rotation=45,ha='right',rotation_mode=\"anchor\")\n",
    "''"
   ]
  },
  {
   "cell_type": "markdown",
   "id": "expired-harmony",
   "metadata": {},
   "source": [
    "All looks reasonable!"
   ]
  },
  {
   "cell_type": "markdown",
   "id": "hearing-tamil",
   "metadata": {},
   "source": [
    "# Appendix I. Linearising Holmes et al. (2013)"
   ]
  },
  {
   "cell_type": "markdown",
   "id": "operational-guide",
   "metadata": {},
   "source": [
    "Holmes et al. expresses the change in CH4 lifetime with respect to the OH radical as sensitivities, $S$, to a number of factors, $F$:\n",
    "$$\n",
    "d\\text{ln}(\\tau _{\\text{CH}_4 \\times \\text{OH}}) = S \\cdot d \\text{ln}(F)\n",
    "$$\n",
    "Since in FaIRv2.0.0 (at least for the moment), we are only able to model the feedbacks on the *full* lifetime, $\\tau$, we need to re-write this in terms of the sensitivity of the *full* lifetime to the factors. Using present-day values for the CH4 lifetime with respect to the non-OH sinks, $x$, we obtain:\n",
    "\n",
    "$$\n",
    "a = \\sum{\\tau_x^{-1}}\\\\\n",
    "\\tau _{\\text{CH}_4 \\times \\text{OH}} = \\frac{\\tau}{1-a\\tau}\n",
    "$$\n",
    "Substituting and expanding about a small perturbation:\n",
    "$$\n",
    "\\frac{S \\Delta F}{F} = \\frac{\\Delta \\tau}{\\tau(1-a\\tau)}\n",
    "$$\n",
    "In FaIRv2.0.0 we instead have:\n",
    "$$\n",
    "\\tau = \\tau_0 e^{r_F F / \\tau_0}\\\\\n",
    "1 + \\frac{\\Delta \\tau}{\\tau} = \\text{exp}(r_F \\Delta F / \\tau_0)\n",
    "$$\n",
    "\n",
    "Noting that the FaIRv2.0.0 expression is independent of the absolute value of $F$, unlike the sensitivity form, and expanding about a small perturbation:\n",
    "$$\n",
    "r = \\frac{S\\tau_0 (1-a\\tau)}{F}\n",
    "$$\n",
    "\n",
    "We could then substitute in present-day values from Holmes et al. to give us a CH4 lifetime form that matches the sensitivity form gradient at the present-day. However, to avoid structural differences between the two forms leading to crazy lifetimes under high-emission scenarios (RCP8.5 I'm looking at you), we instead tune the FaIRv2.0.0 $\\Delta \\tau$ form to the 2010-2100 lifetime changes under RCP8.5 stated in Holmes et al.. These are:\n",
    "\n",
    "- Change in $\\tau _{\\text{CH}_4 \\times \\text{OH}}$ due to combined water-vapour / temperature sensitivity = 16.6 %\n",
    "- Change in $\\tau _{\\text{CH}_4 \\times \\text{OH}}$ due to CH4 abundance sensitivity = 28.9 %\n",
    "\n",
    "So we want $1 + \\Delta \\tau / \\tau = \\text{exp}(r_F \\Delta F / \\tau_0)$ to be equal to these same percentage changes. Using the values of $\\Delta F$ from Holmes: $\\Delta T = 3.8 K$ & $\\Delta \\text{CH}_4 = 2190$, we obtain ($1-a\\tau \\sim 0.775$ over this period):\n",
    "\n",
    "$$\n",
    "\\text{exp}(r_T \\cdot 3.8 / \\tau_0) = 1 - 0.166 \\cdot 0.775\\\\\n",
    "\\text{exp}(r_A \\cdot (2190 / 0.352) / \\tau_0) = 1 + 0.289 \\cdot 0.775\n",
    "$$\n",
    "\n",
    "We can then use these formulas within the historical tuning procedure to obtain $\\tau_0$, $r_T$ & $r_A$."
   ]
  }
 ],
 "metadata": {
  "kernelspec": {
   "display_name": "Python 3",
   "language": "python",
   "name": "python3"
  },
  "language_info": {
   "codemirror_mode": {
    "name": "ipython",
    "version": 3
   },
   "file_extension": ".py",
   "mimetype": "text/x-python",
   "name": "python",
   "nbconvert_exporter": "python",
   "pygments_lexer": "ipython3",
   "version": "3.7.10"
  }
 },
 "nbformat": 4,
 "nbformat_minor": 5
}
