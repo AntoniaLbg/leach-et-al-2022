{
 "cells": [
  {
   "cell_type": "code",
   "execution_count": 2,
   "metadata": {},
   "outputs": [],
   "source": [
    "library(EBM)"
   ]
  },
  {
   "cell_type": "code",
   "execution_count": 4,
   "metadata": {},
   "outputs": [
    {
     "name": "stdout",
     "output_type": "stream",
     "text": [
      "Success! Convergence achieved in 4093 iterations.\n",
      "Success! Convergence achieved in 25185 iterations.\n",
      "Success! Convergence achieved in 3670 iterations.\n",
      "Success! Convergence achieved in 2476 iterations.\n",
      "Success! Convergence achieved in 3393 iterations.\n",
      "Success! Convergence achieved in 9064 iterations.\n",
      "Success! Convergence achieved in 6815 iterations.\n",
      "Success! Convergence achieved in 3112 iterations.\n",
      "Success! Convergence achieved in 2724 iterations.\n",
      "Success! Convergence achieved in 5294 iterations.\n",
      "Success! Convergence achieved in 6164 iterations.\n",
      "Success! Convergence achieved in 5475 iterations.\n",
      "Success! Convergence achieved in 171106 iterations.\n",
      "Success! Convergence achieved in 4880 iterations.\n",
      "Success! Convergence achieved in 3022 iterations.\n",
      "Success! Convergence achieved in 5274 iterations.\n",
      "Success! Convergence achieved in 8326 iterations.\n",
      "Success! Convergence achieved in 64211 iterations.\n",
      "Success! Convergence achieved in 7226 iterations.\n",
      "Success! Convergence achieved in 5098 iterations.\n",
      "Success! Convergence achieved in 4035 iterations.\n",
      "Success! Convergence achieved in 109730 iterations.\n",
      "Success! Convergence achieved in 79481 iterations.\n",
      "Success! Convergence achieved in 27687 iterations.\n",
      "Success! Convergence achieved in 5543 iterations.\n",
      "Success! Convergence achieved in 2594 iterations.\n",
      "Success! Convergence achieved in 2914 iterations.\n",
      "Success! Convergence achieved in 3573 iterations.\n"
     ]
    }
   ],
   "source": [
    "for (item in list.files('../../aux/input-data/CMIP6/abrupt-4xCO2_for_MLE/'))\n",
    "{\n",
    "    mydata <- read.table(paste('../../aux/input-data/CMIP6/abrupt-4xCO2_for_MLE/',item,sep=''), header=TRUE, sep=\",\")\n",
    "    names(mydata)[1] <- \"temp\"\n",
    "    names(mydata)[2] <- \"flux\"\n",
    "\n",
    "    # set three-box model starting values\n",
    "    inits3 <- list(\n",
    "    gamma = 2.0,\n",
    "    C = c(5.0, 20.0, 100.0),\n",
    "    kappa = c(1.0, 2.0, 1.0),\n",
    "    epsilon = 1.0,\n",
    "    sigma_eta = 0.5,\n",
    "    sigma_xi = 0.5,\n",
    "    F_4xCO2 = 5.0\n",
    "    )\n",
    "    # fit three-box model to HadGEM2-ES\n",
    "    output <- with(mydata, {\n",
    "    FitKalman(inits = inits3, T1 = temp, N = flux, maxeval = 5e+05)\n",
    "    })\n",
    "    write.csv(exp(output$mle),file=paste('../../aux/parameter-sets/CMIP6-climresp_Cummins/',item,sep=''))\n",
    "}"
   ]
  },
  {
   "cell_type": "code",
   "execution_count": null,
   "metadata": {},
   "outputs": [],
   "source": []
  }
 ],
 "metadata": {
  "kernelspec": {
   "display_name": "R",
   "language": "R",
   "name": "ir"
  },
  "language_info": {
   "codemirror_mode": "r",
   "file_extension": ".r",
   "mimetype": "text/x-r-source",
   "name": "R",
   "pygments_lexer": "r",
   "version": "3.6.3"
  }
 },
 "nbformat": 4,
 "nbformat_minor": 4
}
