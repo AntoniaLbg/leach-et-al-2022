{
 "cells": [
  {
   "cell_type": "markdown",
   "id": "preliminary-letter",
   "metadata": {},
   "source": [
    "## Import dependencies"
   ]
  },
  {
   "cell_type": "code",
   "execution_count": 1,
   "id": "first-trainer",
   "metadata": {},
   "outputs": [],
   "source": [
    "import numpy as np\n",
    "import sys\n",
    "import pandas as pd\n",
    "import matplotlib.pyplot as plt\n",
    "import seaborn as sn\n",
    "import scipy as sp\n",
    "from tqdm import tqdm\n",
    "import glob\n",
    "\n",
    "from fair import *\n",
    "from fair.scripts.data_retrieval import *\n",
    "\n",
    "%matplotlib inline"
   ]
  },
  {
   "cell_type": "markdown",
   "id": "laden-actor",
   "metadata": {},
   "source": [
    "# RCMIP simulations\n",
    "In this notebook we run the simulations to be submitted to RCMIP Phase II. These are simulations over various key experiments using a set of 5000 parameters from the CONSTRAINED parameter ensemble.\n",
    "\n",
    "**This notebook is not well commented as it does not form part of the FaIRv2.0.0 paper.**"
   ]
  },
  {
   "cell_type": "code",
   "execution_count": 2,
   "id": "reflected-bobby",
   "metadata": {},
   "outputs": [],
   "source": [
    "## first, import the categories for aggregation & adjust to match RCMIP:\n",
    "param_categories = pd.read_csv('../../aux/FaIRv2.0.0-alpha_RF_categories.csv',index_col=0,skiprows=1,names=['source','category'])\n",
    "f_gas_list = ['c2f6', 'c3f8', 'c4f10', 'c5f12', 'c6f14', 'c7f16', 'c8f18', 'c_c4f8','nf3', 'sf6', 'so2f2','cf4','hfc125', 'hfc134a', 'hfc143a', 'hfc152a', 'hfc227ea', 'hfc236fa', 'hfc23', 'hfc245fa', 'hfc32', 'hfc365mfc', 'hfc4310mee']\n",
    "montreal_gas_list = ['carbon_tetrachloride','cfc113', 'cfc114', 'cfc115', 'cfc11', 'cfc12', 'ch2cl2', 'ch3ccl3', 'chcl3', 'halon1211', 'halon1301', 'halon2402', 'hcfc141b', 'hcfc142b', 'hcfc22','halon1202','methyl_bromide', 'methyl_chloride']\n",
    "param_categories.loc[f_gas_list] = 'f_gases'\n",
    "param_categories.loc[montreal_gas_list] = 'montreal_gases'\n",
    "param_categories.loc['Total'] = 'Total'\n",
    "\n",
    "RCMIP_outputmap = pd.read_csv('../../aux/FaIRv2.0.0-alpha_RCMIP_inputmap.csv',index_col=0)\n",
    "RCMIP_forcmap = pd.read_csv('../../aux/FaIRv2.0.0-alpha_RCMIP_forcmap.csv',index_col=0)\n",
    "RCMIP_forcmap.loc['ozone'] = 'Effective Radiative Forcing|Anthropogenic|Other|Ozone'"
   ]
  },
  {
   "cell_type": "markdown",
   "id": "orange-centre",
   "metadata": {},
   "source": [
    "Variables required as per the paper draft + SI:\n",
    "- GSAT / GMST\n",
    "- Total ERF\n",
    "- Aerosol ERF\n",
    "- CO2 concs (esm)\n",
    "- CO2 ERF\n",
    "- CH4 ERF\n",
    "- N2O ERF\n",
    "- F-gas ERF\n",
    "- OHC (not available)\n",
    "- Trop O3"
   ]
  },
  {
   "cell_type": "markdown",
   "id": "charged-rhythm",
   "metadata": {},
   "source": [
    "### obtain a set of 5000 CONSTRAINED parameters"
   ]
  },
  {
   "cell_type": "code",
   "execution_count": 3,
   "id": "clinical-stable",
   "metadata": {},
   "outputs": [],
   "source": [
    "## get a set of ensemble selection likelihoods\n",
    "datasets_to_use = ['HadCRUT5']#['HadCRUT4','HadCRUT4','NOAA','GISTEMP','CW','BERKELEY']\n",
    "\n",
    "FULL_probabilities = pd.concat([pd.read_hdf('../../aux/parameter-sets/perturbed-parameters/FULL_selection_probability-'+x+'.h5') for x in datasets_to_use],axis=1,keys=datasets_to_use)\n",
    "FULL_ensemble_selection = FULL_probabilities.mean(axis=1)>np.random.random(FULL_probabilities.shape[0])"
   ]
  },
  {
   "cell_type": "code",
   "execution_count": 4,
   "id": "bright-workshop",
   "metadata": {},
   "outputs": [],
   "source": [
    "N_sets = 5000\n",
    "\n",
    "# here we randomly select which ensemble members will make up our parameter sets\n",
    "CONSTRAINED_ensemble_members = FULL_ensemble_selection.index[FULL_ensemble_selection][np.random.choice(FULL_ensemble_selection.sum(),N_sets,replace=False)]"
   ]
  },
  {
   "cell_type": "code",
   "execution_count": 5,
   "id": "buried-relationship",
   "metadata": {},
   "outputs": [],
   "source": [
    "ALL_mems = [x.split('/')[-1].split('.')[0] for x in glob.glob('../../aux/parameter-sets/perturbed-parameters/gas_params/*.h5')]\n",
    "\n",
    "CONSTRAINED_thermal_set = []\n",
    "CONSTRAINED_gas_set = []\n",
    "CONSTRAINED_extforc_sfs = []\n",
    "\n",
    "## and here we generate the parameter sets\n",
    "for mem_range in ALL_mems:\n",
    "    \n",
    "    gas_params = pd.read_hdf('../../aux/parameter-sets/perturbed-parameters/gas_params/'+mem_range+'.h5')\n",
    "    thermal_params = pd.read_hdf('../../aux/parameter-sets/perturbed-parameters/climresp_params/FULL/'+mem_range+'.h5')\n",
    "    extforc_sfs = pd.read_hdf('../../aux/parameter-sets/perturbed-parameters/extforc_sfs/'+mem_range+'.h5')\n",
    "    \n",
    "    CONSTRAINED_mems = set(gas_params.columns.levels[0]).intersection(CONSTRAINED_ensemble_members)\n",
    "    \n",
    "    CONSTRAINED_thermal_set += [thermal_params.reindex(CONSTRAINED_mems,axis=1,level=0)]\n",
    "    CONSTRAINED_gas_set += [gas_params.reindex(CONSTRAINED_mems,axis=1,level=0)]\n",
    "    CONSTRAINED_extforc_sfs += [extforc_sfs.reindex(CONSTRAINED_mems,axis=1)]\n",
    "    \n",
    "CONSTRAINED_thermal_set = pd.concat(CONSTRAINED_thermal_set,axis=1)\n",
    "CONSTRAINED_gas_set = pd.concat(CONSTRAINED_gas_set,axis=1)\n",
    "CONSTRAINED_extforc_sfs = pd.concat(CONSTRAINED_extforc_sfs,axis=1)"
   ]
  },
  {
   "cell_type": "markdown",
   "id": "disabled-walker",
   "metadata": {},
   "source": [
    "### Create FaIRv2.0.0-alpha metadata"
   ]
  },
  {
   "cell_type": "code",
   "execution_count": 6,
   "id": "union-mother",
   "metadata": {},
   "outputs": [],
   "source": [
    "metadata = pd.DataFrame(columns = ['climate_model','climate_model_name','climate_model_version','climate_model_configuration_label','climate_model_configuration_description','project','name_of_person','literature_reference'],index=['entry'])\n",
    "metadata.loc['entry','climate_model'] = 'FaIRv2.0.0-alpha'\n",
    "metadata.loc['entry','climate_model_name'] = 'FaIR'\n",
    "metadata.loc['entry','climate_model_version'] = '2.0.0'\n",
    "metadata.loc['entry','climate_model_configuration_label'] = 'CONSTRAINED-HadCRUT5'\n",
    "metadata.loc['entry','climate_model_configuration_description'] = 'FaIRv2.0.0-alpha large parameter ensemble subset with HadCRUT5-based AWI constraint applied.'\n",
    "metadata.loc['entry','project'] = 'RCMIP'\n",
    "metadata.loc['entry','name_of_person'] = 'Nicholas Leach <nicholas.leach@stx.ox.ac.uk>'\n",
    "metadata.loc['entry','literature_reference'] = 'https://doi.org/10.5194/gmd-2020-390'\n",
    "\n",
    "metadata.to_csv('../../aux/output-data/RCMIP/meta_FaIRv2.0.0-alpha-HC5.csv',index=False)"
   ]
  },
  {
   "cell_type": "markdown",
   "id": "front-compression",
   "metadata": {},
   "source": [
    "### Create dataframe for key ensemble member metrics"
   ]
  },
  {
   "cell_type": "code",
   "execution_count": 7,
   "id": "controversial-sender",
   "metadata": {},
   "outputs": [],
   "source": [
    "member_metrics = pd.read_hdf('../../aux/parameter-sets/perturbed-parameters/FULL_ALL.h5')\n",
    "\n",
    "member_metrics = member_metrics[['ECS','TCR','F2xCO2']].reindex(CONSTRAINED_ensemble_members)\n",
    "member_metrics = member_metrics.unstack().rename({'ECS':'Equilibrium Climate Sensitivity','TCR':'Transient Climate Response','F2xCO2':'F-2xCO2'},level=0).reset_index().rename({'level_0':'RCMIP name','level_1':'ensemble_member',0:'value'},axis=1)\n",
    "member_metrics.loc[:,'unit'] = 'K'\n",
    "member_metrics.loc[:,'climate_model'] = 'FaIRv2.0.0-alpha'\n",
    "member_metrics.loc[member_metrics['RCMIP name']=='F-2xCO2','unit'] = 'W/m^2'\n",
    "member_metrics.loc[:,'ensemble_member'] = member_metrics.loc[:,'ensemble_member'].str[3:].astype(int)\n",
    "\n",
    "member_metrics.loc[member_metrics['RCMIP name']=='Equilibrium Climate Sensitivity'].to_csv('../../aux/output-data/RCMIP/reported-metrics_FaIRv2.0.0-alpha-HC5.csv.gz', compression='gzip',index=False)"
   ]
  },
  {
   "cell_type": "markdown",
   "id": "cellular-sunset",
   "metadata": {},
   "source": [
    "## Concentration-driven experiments\n",
    "\n",
    "### 1pctCO2 , abrupt2xCO2, abrupt4xCO2, abrupt0.5xCO2"
   ]
  },
  {
   "cell_type": "code",
   "execution_count": 8,
   "id": "human-narrow",
   "metadata": {},
   "outputs": [],
   "source": [
    "## create the scenarios:\n",
    "\n",
    "idealised_concs = pd.DataFrame(284*1.01**(np.arange(201)),index=np.arange(201),columns=pd.MultiIndex.from_product([['1pctCO2'],['carbon_dioxide']]))\n",
    "idealised_concs.loc[:,('abrupt-4xCO2','carbon_dioxide')] = 284*4\n",
    "idealised_concs.loc[:,('abrupt-2xCO2','carbon_dioxide')] = 284*2\n",
    "idealised_concs.loc[:,('abrupt-0p5xCO2','carbon_dioxide')] = 284/2\n",
    "idealised_concs.loc[0,(slice(None),'carbon_dioxide')] = 284\n",
    "\n",
    "idealised_forc = return_empty_forcing(idealised_concs)\n",
    "\n",
    "idealised_params = CONSTRAINED_gas_set.reindex(['carbon_dioxide'],axis=1,level=1)\n",
    "idealised_params.loc['PI_conc']=284"
   ]
  },
  {
   "cell_type": "code",
   "execution_count": 9,
   "id": "agreed-approval",
   "metadata": {},
   "outputs": [
    {
     "name": "stdout",
     "output_type": "stream",
     "text": [
      "Integrating 4 scenarios, 5000 gas cycle parameter sets, 1 thermal response parameter sets, over ['carbon_dioxide'] forcing agents, between 0 and 200...\n"
     ]
    },
    {
     "name": "stderr",
     "output_type": "stream",
     "text": [
      "100%|██████████| 200/200 [00:02<00:00, 89.11 timestep/s]\n"
     ]
    }
   ],
   "source": [
    "## run the experiments\n",
    "idealised_exp = run_FaIR(concentrations_in=idealised_concs,forcing_in=idealised_forc,gas_parameters=idealised_params,thermal_parameters=CONSTRAINED_thermal_set)"
   ]
  },
  {
   "cell_type": "code",
   "execution_count": 10,
   "id": "radical-federation",
   "metadata": {},
   "outputs": [],
   "source": [
    "## temperature output\n",
    "T_out = idealised_exp['T'].loc[1:200].copy()\n",
    "T_out.index = np.arange(200)\n",
    "\n",
    "T_out = T_out.T.reset_index().rename({'Gas cycle set':'ensemble_member','Scenario':'scenario'},axis=1)\n",
    "\n",
    "T_out.loc[:,'variable'] = 'Surface Air Temperature Change'\n",
    "T_out.loc[:,'region'] = 'World'\n",
    "T_out.loc[:,'climate_model'] = 'FaIRv2.0.0-alpha'\n",
    "T_out.loc[:,'model'] = 'idealised'\n",
    "T_out.loc[:,'unit'] = 'K'\n",
    "\n",
    "T_out = T_out.set_index(['climate_model','model','scenario','region','variable','unit','ensemble_member']).reset_index()"
   ]
  },
  {
   "cell_type": "code",
   "execution_count": 11,
   "id": "educational-rolling",
   "metadata": {},
   "outputs": [],
   "source": [
    "## RF output\n",
    "RF_out = idealised_exp['RF'].loc[1:200].xs('carbon_dioxide',axis=1,level=-1).copy()\n",
    "RF_out.index = np.arange(200)\n",
    "\n",
    "RF_out = RF_out.T.reset_index().rename({'Gas cycle set':'ensemble_member','Scenario':'scenario'},axis=1)\n",
    "\n",
    "RF_out.loc[:,'variable'] = 'Effective Radiative Forcing'\n",
    "RF_out.loc[:,'region'] = 'World'\n",
    "RF_out.loc[:,'climate_model'] = 'FaIRv2.0.0-alpha'\n",
    "RF_out.loc[:,'model'] = 'idealised'\n",
    "RF_out.loc[:,'unit'] = 'W/m^2'\n",
    "\n",
    "RF_out = RF_out.set_index(['climate_model','model','scenario','region','variable','unit','ensemble_member']).reset_index()"
   ]
  },
  {
   "cell_type": "code",
   "execution_count": 12,
   "id": "altered-thomas",
   "metadata": {},
   "outputs": [],
   "source": [
    "## Emissions out\n",
    "emms_out = idealised_exp['Emissions'].loc[1:200].droplevel(axis=1,level=-1)/RCMIP_outputmap.loc['carbon_dioxide','RCMIP_emms_scaling']\n",
    "emms_out.index = np.arange(200)\n",
    "\n",
    "emms_out = emms_out.T.reset_index().rename({'Gas cycle set':'ensemble_member','Scenario':'scenario'},axis=1)\n",
    "\n",
    "emms_out.loc[:,'variable'] = 'Emissions|CO2'\n",
    "emms_out.loc[:,'region'] = 'World'\n",
    "emms_out.loc[:,'climate_model'] = 'FaIRv2.0.0-alpha'\n",
    "emms_out.loc[:,'model'] = 'idealised'\n",
    "emms_out.loc[:,'unit'] = 'Mt CO2/yr'\n",
    "\n",
    "emms_out = emms_out.set_index(['climate_model','model','scenario','region','variable','unit','ensemble_member']).reset_index()"
   ]
  },
  {
   "cell_type": "code",
   "execution_count": 13,
   "id": "deadly-carbon",
   "metadata": {},
   "outputs": [],
   "source": [
    "## Remaining variables\n",
    "atmos_pool_out = emms_out.loc[emms_out.variable=='Emissions|CO2'].copy()\n",
    "\n",
    "for experiment in atmos_pool_out.scenario.unique():\n",
    "    atmos_pool_out.loc[atmos_pool_out.scenario==experiment,0:] = ((idealised_exp['C'].loc[1:,(experiment,'carbon_dioxide')]-284)/(4.688876e-01*RCMIP_outputmap.loc['carbon_dioxide','RCMIP_emms_scaling'])).values\n",
    "\n",
    "atmos_pool_out.loc[:,'variable'] = 'Carbon Pool|Atmosphere'\n",
    "atmos_pool_out.loc[:,'unit'] = 'Mt CO2'"
   ]
  },
  {
   "cell_type": "code",
   "execution_count": 14,
   "id": "grave-dealer",
   "metadata": {},
   "outputs": [],
   "source": [
    "output = pd.concat([T_out,RF_out,emms_out,atmos_pool_out],axis=0)\n",
    "output.iloc[:,7:] = output.iloc[:,7:].astype(np.single)\n",
    "output.columns = output.columns.tolist()[:7]+list(range(1850,2050))\n",
    "output.loc[:,'ensemble_member'] = output.loc[:,'ensemble_member'].str[3:].astype(int)\n",
    "\n",
    "output.loc[:,:1999].to_csv('../../aux/output-data/RCMIP/idealised_FaIRv2.0.0-alpha-HC5.csv.gz', compression='gzip',index=False)"
   ]
  },
  {
   "cell_type": "markdown",
   "id": "helpful-plasma",
   "metadata": {},
   "source": [
    "### SSPs"
   ]
  },
  {
   "cell_type": "code",
   "execution_count": 15,
   "id": "municipal-thomas",
   "metadata": {},
   "outputs": [],
   "source": [
    "def run_RCMIP_ssp(ssp):\n",
    "\n",
    "    ## retrieve the data for the ssp\n",
    "    concs = RCMIP_to_FaIR_input_concs(ssp).loc[1750:2300]\n",
    "    emms = RCMIP_to_FaIR_input_emms(ssp).interpolate().loc[1750:2300]\n",
    "\n",
    "    aer_species = ['so2','nox','co','nmvoc','bc','nh3','oc','nox_avi']\n",
    "    concs.loc[:,aer_species] = emms.loc[:,aer_species] - emms.loc[1750,aer_species]\n",
    "\n",
    "    # No SSP data for Halon 1202 so set to zero\n",
    "    concs['halon1202'] = 0\n",
    "\n",
    "    LUC_forc = pd.concat([get_RCMIP_forc([ssp],'Effective Radiative Forcing|Anthropogenic|Albedo Change')]*N_sets,axis=1,keys=CONSTRAINED_extforc_sfs.loc['LUC'].index)*CONSTRAINED_extforc_sfs.loc['LUC'].values\n",
    "\n",
    "    nat_forc = get_RCMIP_forc([ssp],['Effective Radiative Forcing|Natural'])\n",
    "\n",
    "    forc = (LUC_forc + nat_forc.values).loc[concs.index]\n",
    "\n",
    "    concs = pd.concat([concs]*N_sets,axis=1,keys=forc.columns.levels[0])\n",
    "\n",
    "    ## run the model:\n",
    "    ### NB. No Halon1202 data for the SSPs so remove from the inputs\n",
    "    result = run_FaIR(concentrations_in=concs,\n",
    "                      forcing_in=forc,\n",
    "                      gas_parameters=CONSTRAINED_gas_set,\n",
    "                      thermal_parameters=CONSTRAINED_thermal_set,\n",
    "                      aer_concs_in=aer_species,\n",
    "                      show_run_info=False)\n",
    "\n",
    "    ## temperature output\n",
    "    T_out = pd.concat([result['T'].loc[:].copy()],axis=1,keys=[ssp],names=['Scenario','Gas cycle set'])\n",
    "    T_out = T_out.T.reset_index().rename({'Gas cycle set':'ensemble_member','Scenario':'scenario'},axis=1)\n",
    "    T_out.loc[:,'variable'] = 'Surface Air Temperature Change'\n",
    "    T_out.loc[:,'region'] = 'World'\n",
    "    T_out.loc[:,'climate_model'] = 'FaIRv2.0.0-alpha'\n",
    "    T_out.loc[:,'model'] = RCMIP_concs.loc[('World',ssp)].Model.unique()[0]\n",
    "    T_out.loc[:,'unit'] = 'K'\n",
    "    T_out = T_out.set_index(['climate_model','model','scenario','region','variable','unit','ensemble_member']).reset_index()\n",
    "\n",
    "    ## RF output - excluding ozone, strath20, bconsnow, contrails\n",
    "    RF_out = result['RF'].stack(level=0).groupby(param_categories.category.to_dict(),axis=1).sum().drop(['ozone','strat_h2o','contrails','bc_on_snow'],axis=1).rename(RCMIP_forcmap.RCMIP_forc_key.to_dict(),axis=1).stack().unstack(level=0).reset_index()\n",
    "\n",
    "    RF_out = RF_out.rename({'Scenario':'ensemble_member','level_1':'variable'},axis=1)\n",
    "    RF_out.loc[:,'scenario'] = ssp\n",
    "    RF_out.loc[:,'region'] = 'World'\n",
    "    RF_out.loc[:,'climate_model'] = 'FaIRv2.0.0-alpha'\n",
    "    RF_out.loc[:,'model'] = RCMIP_concs.loc[('World',ssp)].Model.unique()[0]\n",
    "    RF_out.loc[:,'unit'] = 'W/m^2'\n",
    "\n",
    "    RF_out = RF_out.loc[:,['climate_model','model','scenario','region','variable','unit','ensemble_member']+list(range(1750,2301))]\n",
    "\n",
    "    ## Emissions out\n",
    "    emms_out = result['Emissions'].xs('carbon_dioxide',axis=1,level=-1)/RCMIP_outputmap.loc['carbon_dioxide','RCMIP_emms_scaling']\n",
    "\n",
    "    emms_out = emms_out.T.reset_index().rename({'Scenario':'ensemble_member'},axis=1)\n",
    "\n",
    "    emms_out.loc[:,'variable'] = 'Emissions|CO2'\n",
    "    emms_out.loc[:,'scenario'] = ssp\n",
    "    emms_out.loc[:,'region'] = 'World'\n",
    "    emms_out.loc[:,'climate_model'] = 'FaIRv2.0.0-alpha'\n",
    "    emms_out.loc[:,'model'] = RCMIP_concs.loc[('World',ssp)].Model.unique()[0]\n",
    "    emms_out.loc[:,'unit'] = 'Mt CO2/yr'\n",
    "\n",
    "    emms_out = emms_out.set_index(['climate_model','model','scenario','region','variable','unit','ensemble_member']).reset_index()\n",
    "\n",
    "    ## Remaining variable(s)\n",
    "    atmos_pool_out = emms_out.loc[emms_out.variable=='Emissions|CO2'].copy()\n",
    "\n",
    "    atmos_pool_out.loc[:,1750:] = ((result['C'].xs('carbon_dioxide',axis=1,level=-1)-278)/(4.688876e-01*RCMIP_outputmap.loc['carbon_dioxide','RCMIP_emms_scaling'])).values.T\n",
    "\n",
    "    atmos_pool_out.loc[:,'variable'] = 'Carbon Pool|Atmosphere'\n",
    "    atmos_pool_out.loc[:,'unit'] = 'Mt CO2'\n",
    "    \n",
    "    output = pd.concat([T_out,RF_out,emms_out,atmos_pool_out])\n",
    "    output.iloc[:,7:] = output.iloc[:,7:].astype(np.single)\n",
    "    output.loc[:,'ensemble_member'] = output.loc[:,'ensemble_member'].str[3:].astype(int)\n",
    "\n",
    "    print('saving',ssp)\n",
    "    output.to_csv('../../aux/output-data/RCMIP/'+ssp+'_FaIRv2.0.0-alpha-HC5.csv.gz', compression='gzip',index=False)"
   ]
  },
  {
   "cell_type": "code",
   "execution_count": 16,
   "id": "rubber-sheet",
   "metadata": {},
   "outputs": [
    {
     "name": "stderr",
     "output_type": "stream",
     "text": [
      "100%|██████████| 550/550 [01:34<00:00,  5.80 timestep/s]\n",
      "/nfs/a65/pmcjs/miniconda3/envs/leach2021/lib/python3.7/site-packages/ipykernel_launcher.py:36: PerformanceWarning: indexing past lexsort depth may impact performance.\n",
      "/nfs/a65/pmcjs/miniconda3/envs/leach2021/lib/python3.7/site-packages/ipykernel_launcher.py:47: PerformanceWarning: indexing past lexsort depth may impact performance.\n",
      "/nfs/a65/pmcjs/miniconda3/envs/leach2021/lib/python3.7/site-packages/ipykernel_launcher.py:61: PerformanceWarning: indexing past lexsort depth may impact performance.\n"
     ]
    },
    {
     "name": "stdout",
     "output_type": "stream",
     "text": [
      "saving ssp119\n"
     ]
    },
    {
     "name": "stderr",
     "output_type": "stream",
     "text": [
      "100%|██████████| 550/550 [01:36<00:00,  5.68 timestep/s]\n",
      "/nfs/a65/pmcjs/miniconda3/envs/leach2021/lib/python3.7/site-packages/ipykernel_launcher.py:36: PerformanceWarning: indexing past lexsort depth may impact performance.\n",
      "/nfs/a65/pmcjs/miniconda3/envs/leach2021/lib/python3.7/site-packages/ipykernel_launcher.py:47: PerformanceWarning: indexing past lexsort depth may impact performance.\n",
      "/nfs/a65/pmcjs/miniconda3/envs/leach2021/lib/python3.7/site-packages/ipykernel_launcher.py:61: PerformanceWarning: indexing past lexsort depth may impact performance.\n"
     ]
    },
    {
     "name": "stdout",
     "output_type": "stream",
     "text": [
      "saving ssp126\n"
     ]
    },
    {
     "name": "stderr",
     "output_type": "stream",
     "text": [
      "100%|██████████| 550/550 [01:52<00:00,  4.88 timestep/s]\n",
      "/nfs/a65/pmcjs/miniconda3/envs/leach2021/lib/python3.7/site-packages/ipykernel_launcher.py:36: PerformanceWarning: indexing past lexsort depth may impact performance.\n",
      "/nfs/a65/pmcjs/miniconda3/envs/leach2021/lib/python3.7/site-packages/ipykernel_launcher.py:47: PerformanceWarning: indexing past lexsort depth may impact performance.\n",
      "/nfs/a65/pmcjs/miniconda3/envs/leach2021/lib/python3.7/site-packages/ipykernel_launcher.py:61: PerformanceWarning: indexing past lexsort depth may impact performance.\n"
     ]
    },
    {
     "name": "stdout",
     "output_type": "stream",
     "text": [
      "saving ssp245\n"
     ]
    },
    {
     "name": "stderr",
     "output_type": "stream",
     "text": [
      "100%|██████████| 550/550 [01:34<00:00,  5.80 timestep/s]\n",
      "/nfs/a65/pmcjs/miniconda3/envs/leach2021/lib/python3.7/site-packages/ipykernel_launcher.py:36: PerformanceWarning: indexing past lexsort depth may impact performance.\n",
      "/nfs/a65/pmcjs/miniconda3/envs/leach2021/lib/python3.7/site-packages/ipykernel_launcher.py:47: PerformanceWarning: indexing past lexsort depth may impact performance.\n",
      "/nfs/a65/pmcjs/miniconda3/envs/leach2021/lib/python3.7/site-packages/ipykernel_launcher.py:61: PerformanceWarning: indexing past lexsort depth may impact performance.\n"
     ]
    },
    {
     "name": "stdout",
     "output_type": "stream",
     "text": [
      "saving ssp370\n"
     ]
    },
    {
     "name": "stderr",
     "output_type": "stream",
     "text": [
      "100%|██████████| 550/550 [01:34<00:00,  5.80 timestep/s]\n",
      "/nfs/a65/pmcjs/miniconda3/envs/leach2021/lib/python3.7/site-packages/ipykernel_launcher.py:36: PerformanceWarning: indexing past lexsort depth may impact performance.\n",
      "/nfs/a65/pmcjs/miniconda3/envs/leach2021/lib/python3.7/site-packages/ipykernel_launcher.py:47: PerformanceWarning: indexing past lexsort depth may impact performance.\n",
      "/nfs/a65/pmcjs/miniconda3/envs/leach2021/lib/python3.7/site-packages/ipykernel_launcher.py:61: PerformanceWarning: indexing past lexsort depth may impact performance.\n"
     ]
    },
    {
     "name": "stdout",
     "output_type": "stream",
     "text": [
      "saving ssp370-lowNTCF-aerchemmip\n"
     ]
    },
    {
     "name": "stderr",
     "output_type": "stream",
     "text": [
      "100%|██████████| 550/550 [01:36<00:00,  5.70 timestep/s]\n",
      "/nfs/a65/pmcjs/miniconda3/envs/leach2021/lib/python3.7/site-packages/ipykernel_launcher.py:36: PerformanceWarning: indexing past lexsort depth may impact performance.\n",
      "/nfs/a65/pmcjs/miniconda3/envs/leach2021/lib/python3.7/site-packages/ipykernel_launcher.py:47: PerformanceWarning: indexing past lexsort depth may impact performance.\n",
      "/nfs/a65/pmcjs/miniconda3/envs/leach2021/lib/python3.7/site-packages/ipykernel_launcher.py:61: PerformanceWarning: indexing past lexsort depth may impact performance.\n"
     ]
    },
    {
     "name": "stdout",
     "output_type": "stream",
     "text": [
      "saving ssp370-lowNTCF-gidden\n"
     ]
    },
    {
     "name": "stderr",
     "output_type": "stream",
     "text": [
      "100%|██████████| 550/550 [01:36<00:00,  5.69 timestep/s]\n",
      "/nfs/a65/pmcjs/miniconda3/envs/leach2021/lib/python3.7/site-packages/ipykernel_launcher.py:36: PerformanceWarning: indexing past lexsort depth may impact performance.\n",
      "/nfs/a65/pmcjs/miniconda3/envs/leach2021/lib/python3.7/site-packages/ipykernel_launcher.py:47: PerformanceWarning: indexing past lexsort depth may impact performance.\n",
      "/nfs/a65/pmcjs/miniconda3/envs/leach2021/lib/python3.7/site-packages/ipykernel_launcher.py:61: PerformanceWarning: indexing past lexsort depth may impact performance.\n"
     ]
    },
    {
     "name": "stdout",
     "output_type": "stream",
     "text": [
      "saving ssp434\n"
     ]
    },
    {
     "name": "stderr",
     "output_type": "stream",
     "text": [
      "100%|██████████| 550/550 [01:35<00:00,  5.79 timestep/s]\n",
      "/nfs/a65/pmcjs/miniconda3/envs/leach2021/lib/python3.7/site-packages/ipykernel_launcher.py:36: PerformanceWarning: indexing past lexsort depth may impact performance.\n",
      "/nfs/a65/pmcjs/miniconda3/envs/leach2021/lib/python3.7/site-packages/ipykernel_launcher.py:47: PerformanceWarning: indexing past lexsort depth may impact performance.\n",
      "/nfs/a65/pmcjs/miniconda3/envs/leach2021/lib/python3.7/site-packages/ipykernel_launcher.py:61: PerformanceWarning: indexing past lexsort depth may impact performance.\n"
     ]
    },
    {
     "name": "stdout",
     "output_type": "stream",
     "text": [
      "saving ssp460\n"
     ]
    },
    {
     "name": "stderr",
     "output_type": "stream",
     "text": [
      "100%|██████████| 550/550 [01:41<00:00,  5.40 timestep/s]\n",
      "/nfs/a65/pmcjs/miniconda3/envs/leach2021/lib/python3.7/site-packages/ipykernel_launcher.py:36: PerformanceWarning: indexing past lexsort depth may impact performance.\n",
      "/nfs/a65/pmcjs/miniconda3/envs/leach2021/lib/python3.7/site-packages/ipykernel_launcher.py:47: PerformanceWarning: indexing past lexsort depth may impact performance.\n",
      "/nfs/a65/pmcjs/miniconda3/envs/leach2021/lib/python3.7/site-packages/ipykernel_launcher.py:61: PerformanceWarning: indexing past lexsort depth may impact performance.\n"
     ]
    },
    {
     "name": "stdout",
     "output_type": "stream",
     "text": [
      "saving ssp534-over\n"
     ]
    },
    {
     "name": "stderr",
     "output_type": "stream",
     "text": [
      "100%|██████████| 550/550 [01:34<00:00,  5.81 timestep/s]\n",
      "/nfs/a65/pmcjs/miniconda3/envs/leach2021/lib/python3.7/site-packages/ipykernel_launcher.py:36: PerformanceWarning: indexing past lexsort depth may impact performance.\n",
      "/nfs/a65/pmcjs/miniconda3/envs/leach2021/lib/python3.7/site-packages/ipykernel_launcher.py:47: PerformanceWarning: indexing past lexsort depth may impact performance.\n",
      "/nfs/a65/pmcjs/miniconda3/envs/leach2021/lib/python3.7/site-packages/ipykernel_launcher.py:61: PerformanceWarning: indexing past lexsort depth may impact performance.\n"
     ]
    },
    {
     "name": "stdout",
     "output_type": "stream",
     "text": [
      "saving ssp585\n"
     ]
    }
   ],
   "source": [
    "for ssp in ['ssp119','ssp126','ssp245','ssp370','ssp370-lowNTCF-aerchemmip','ssp370-lowNTCF-gidden','ssp434','ssp460','ssp534-over','ssp585']:\n",
    "    run_RCMIP_ssp(ssp)"
   ]
  },
  {
   "cell_type": "markdown",
   "id": "valuable-intervention",
   "metadata": {},
   "source": [
    "### RCPs\n",
    "TODO"
   ]
  },
  {
   "cell_type": "markdown",
   "id": "bibliographic-convergence",
   "metadata": {},
   "source": [
    "## Emission-driven experiments\n",
    "\n",
    "### esm-SSP\n",
    "We run the esm-SSP simulations using CO2 emissions plus total forcing (excluding CO2) from the concentration-driven simulations."
   ]
  },
  {
   "cell_type": "code",
   "execution_count": 17,
   "id": "appreciated-scottish",
   "metadata": {},
   "outputs": [],
   "source": [
    "def run_RCMIP_esm_ssp(ssp):\n",
    "\n",
    "    ## retrieve the data for the ssp\n",
    "    concs = RCMIP_to_FaIR_input_concs(ssp).loc[1750:2300]\n",
    "    emms = RCMIP_to_FaIR_input_emms(ssp).interpolate().loc[1750:2300]\n",
    "\n",
    "    aer_species = ['so2','nox','co','nmvoc','bc','nh3','oc','nox_avi']\n",
    "    concs.loc[:,aer_species] = emms.loc[:,aer_species] - emms.loc[1750,aer_species]\n",
    "\n",
    "    # No SSP data for Halon 1202 so set to zero\n",
    "    concs['halon1202'] = 0\n",
    "\n",
    "    LUC_forc = pd.concat([get_RCMIP_forc([ssp],'Effective Radiative Forcing|Anthropogenic|Albedo Change')]*N_sets,axis=1,keys=CONSTRAINED_extforc_sfs.loc['LUC'].index)*CONSTRAINED_extforc_sfs.loc['LUC'].values\n",
    "\n",
    "    nat_forc = get_RCMIP_forc([ssp],['Effective Radiative Forcing|Natural'])\n",
    "\n",
    "    forc = (LUC_forc + nat_forc.values).loc[concs.index]\n",
    "\n",
    "    concs = pd.concat([concs]*N_sets,axis=1,keys=forc.columns.levels[0])\n",
    "\n",
    "    concrun_rf = run_FaIR(concentrations_in=concs,\n",
    "                          forcing_in=forc,\n",
    "                          gas_parameters=CONSTRAINED_gas_set,\n",
    "                          thermal_parameters=CONSTRAINED_thermal_set,\n",
    "                          aer_concs_in=aer_species,\n",
    "                          show_run_info=False)['RF']\n",
    "\n",
    "    presc_forc = pd.concat([concrun_rf.xs('Total',axis=1,level=1)-concrun_rf.xs('carbon_dioxide',axis=1,level=1)],axis=1,keys=['forcing']).swaplevel(0,1,axis=1)\n",
    "    emms = pd.concat([emms[['carbon_dioxide']]]*N_sets,axis=1,keys=presc_forc.columns.levels[0])\n",
    "\n",
    "    result = run_FaIR(emissions_in=emms,\n",
    "                      forcing_in=presc_forc,\n",
    "                      gas_parameters=CONSTRAINED_gas_set.reindex(['carbon_dioxide'],axis=1,level=1),\n",
    "                      thermal_parameters=CONSTRAINED_thermal_set,\n",
    "                      show_run_info=False)\n",
    "\n",
    "    ## temperature output\n",
    "    T_out = pd.concat([result['T'].loc[:].copy()],axis=1,keys=[ssp],names=['Scenario','Gas cycle set'])\n",
    "    T_out = T_out.T.reset_index().rename({'Gas cycle set':'ensemble_member','Scenario':'scenario'},axis=1)\n",
    "    T_out.loc[:,'variable'] = 'Surface Air Temperature Change'\n",
    "    T_out.loc[:,'region'] = 'World'\n",
    "    T_out.loc[:,'climate_model'] = 'FaIRv2.0.0-alpha'\n",
    "    T_out.loc[:,'model'] = RCMIP_concs.loc[('World',ssp)].Model.unique()[0]\n",
    "    T_out.loc[:,'unit'] = 'K'\n",
    "    T_out = T_out.set_index(['climate_model','model','scenario','region','variable','unit','ensemble_member']).reset_index()\n",
    "\n",
    "    ## RF output\n",
    "    RF_out = result['RF'].xs('carbon_dioxide',axis=1,level=-1)\n",
    "\n",
    "    RF_out = RF_out.T.reset_index().rename({'Scenario':'ensemble_member'},axis=1)\n",
    "    RF_out.loc[:,'variable'] = 'Effective Radiative Forcing|Anthropogenic|CO2'\n",
    "    RF_out.loc[:,'scenario'] = ssp\n",
    "    RF_out.loc[:,'region'] = 'World'\n",
    "    RF_out.loc[:,'climate_model'] = 'FaIRv2.0.0-alpha'\n",
    "    RF_out.loc[:,'model'] = RCMIP_concs.loc[('World',ssp)].Model.unique()[0]\n",
    "    RF_out.loc[:,'unit'] = 'W/m^2'\n",
    "\n",
    "    RF_out = RF_out.set_index(['climate_model','model','scenario','region','variable','unit','ensemble_member']).reset_index()\n",
    "\n",
    "    ## Concentrations out\n",
    "    concs_out = result['C'].xs('carbon_dioxide',axis=1,level=-1)\n",
    "\n",
    "    concs_out = concs_out.T.reset_index().rename({'Scenario':'ensemble_member'},axis=1)\n",
    "\n",
    "    concs_out.loc[:,'variable'] = 'Atmospheric Concentrations|CO2'\n",
    "    concs_out.loc[:,'scenario'] = ssp\n",
    "    concs_out.loc[:,'region'] = 'World'\n",
    "    concs_out.loc[:,'climate_model'] = 'FaIRv2.0.0-alpha'\n",
    "    concs_out.loc[:,'model'] = RCMIP_concs.loc[('World',ssp)].Model.unique()[0]\n",
    "    concs_out.loc[:,'unit'] = 'ppm'\n",
    "\n",
    "    concs_out = concs_out.set_index(['climate_model','model','scenario','region','variable','unit','ensemble_member']).reset_index()\n",
    "    \n",
    "    ## Emissions out\n",
    "    emms_out = result['Emissions'].xs('carbon_dioxide',axis=1,level=-1)/RCMIP_outputmap.loc['carbon_dioxide','RCMIP_emms_scaling']\n",
    "\n",
    "    emms_out = emms_out.T.reset_index().rename({'Scenario':'ensemble_member'},axis=1)\n",
    "\n",
    "    emms_out.loc[:,'variable'] = 'Emissions|CO2'\n",
    "    emms_out.loc[:,'scenario'] = ssp\n",
    "    emms_out.loc[:,'region'] = 'World'\n",
    "    emms_out.loc[:,'climate_model'] = 'FaIRv2.0.0-alpha'\n",
    "    emms_out.loc[:,'model'] = RCMIP_concs.loc[('World',ssp)].Model.unique()[0]\n",
    "    emms_out.loc[:,'unit'] = 'Mt CO2/yr'\n",
    "\n",
    "    emms_out = emms_out.set_index(['climate_model','model','scenario','region','variable','unit','ensemble_member']).reset_index()\n",
    "\n",
    "    output = pd.concat([T_out,RF_out,concs_out,emms_out])\n",
    "    output.iloc[:,7:] = output.iloc[:,7:].astype(np.single)\n",
    "    output.loc[:,'ensemble_member'] = output.loc[:,'ensemble_member'].str[3:].astype(int)\n",
    "\n",
    "    print('saving',ssp)\n",
    "    output.to_csv('../../aux/output-data/RCMIP/esm-'+ssp+'_FaIRv2.0.0-alpha-HC5.csv.gz', compression='gzip',index=False)"
   ]
  },
  {
   "cell_type": "code",
   "execution_count": 18,
   "id": "duplicate-latex",
   "metadata": {},
   "outputs": [
    {
     "name": "stderr",
     "output_type": "stream",
     "text": [
      "100%|██████████| 550/550 [01:34<00:00,  5.81 timestep/s]\n",
      "100%|██████████| 550/550 [00:01<00:00, 503.20 timestep/s]\n",
      "/nfs/a65/pmcjs/miniconda3/envs/leach2021/lib/python3.7/site-packages/ipykernel_launcher.py:43: PerformanceWarning: indexing past lexsort depth may impact performance.\n",
      "/nfs/a65/pmcjs/miniconda3/envs/leach2021/lib/python3.7/site-packages/ipykernel_launcher.py:55: PerformanceWarning: indexing past lexsort depth may impact performance.\n",
      "/nfs/a65/pmcjs/miniconda3/envs/leach2021/lib/python3.7/site-packages/ipykernel_launcher.py:69: PerformanceWarning: indexing past lexsort depth may impact performance.\n",
      "/nfs/a65/pmcjs/miniconda3/envs/leach2021/lib/python3.7/site-packages/ipykernel_launcher.py:83: PerformanceWarning: indexing past lexsort depth may impact performance.\n"
     ]
    },
    {
     "name": "stdout",
     "output_type": "stream",
     "text": [
      "saving ssp119\n"
     ]
    },
    {
     "name": "stderr",
     "output_type": "stream",
     "text": [
      "100%|██████████| 550/550 [01:34<00:00,  5.81 timestep/s]\n",
      "100%|██████████| 550/550 [00:00<00:00, 557.34 timestep/s]\n",
      "/nfs/a65/pmcjs/miniconda3/envs/leach2021/lib/python3.7/site-packages/ipykernel_launcher.py:43: PerformanceWarning: indexing past lexsort depth may impact performance.\n",
      "/nfs/a65/pmcjs/miniconda3/envs/leach2021/lib/python3.7/site-packages/ipykernel_launcher.py:55: PerformanceWarning: indexing past lexsort depth may impact performance.\n",
      "/nfs/a65/pmcjs/miniconda3/envs/leach2021/lib/python3.7/site-packages/ipykernel_launcher.py:69: PerformanceWarning: indexing past lexsort depth may impact performance.\n",
      "/nfs/a65/pmcjs/miniconda3/envs/leach2021/lib/python3.7/site-packages/ipykernel_launcher.py:83: PerformanceWarning: indexing past lexsort depth may impact performance.\n"
     ]
    },
    {
     "name": "stdout",
     "output_type": "stream",
     "text": [
      "saving ssp126\n"
     ]
    },
    {
     "name": "stderr",
     "output_type": "stream",
     "text": [
      "100%|██████████| 550/550 [01:34<00:00,  5.83 timestep/s]\n",
      "100%|██████████| 550/550 [00:01<00:00, 529.13 timestep/s]\n",
      "/nfs/a65/pmcjs/miniconda3/envs/leach2021/lib/python3.7/site-packages/ipykernel_launcher.py:43: PerformanceWarning: indexing past lexsort depth may impact performance.\n",
      "/nfs/a65/pmcjs/miniconda3/envs/leach2021/lib/python3.7/site-packages/ipykernel_launcher.py:55: PerformanceWarning: indexing past lexsort depth may impact performance.\n",
      "/nfs/a65/pmcjs/miniconda3/envs/leach2021/lib/python3.7/site-packages/ipykernel_launcher.py:69: PerformanceWarning: indexing past lexsort depth may impact performance.\n",
      "/nfs/a65/pmcjs/miniconda3/envs/leach2021/lib/python3.7/site-packages/ipykernel_launcher.py:83: PerformanceWarning: indexing past lexsort depth may impact performance.\n"
     ]
    },
    {
     "name": "stdout",
     "output_type": "stream",
     "text": [
      "saving ssp245\n"
     ]
    },
    {
     "name": "stderr",
     "output_type": "stream",
     "text": [
      "100%|██████████| 550/550 [02:01<00:00,  4.52 timestep/s]\n",
      "100%|██████████| 550/550 [00:01<00:00, 490.29 timestep/s]\n",
      "/nfs/a65/pmcjs/miniconda3/envs/leach2021/lib/python3.7/site-packages/ipykernel_launcher.py:43: PerformanceWarning: indexing past lexsort depth may impact performance.\n",
      "/nfs/a65/pmcjs/miniconda3/envs/leach2021/lib/python3.7/site-packages/ipykernel_launcher.py:55: PerformanceWarning: indexing past lexsort depth may impact performance.\n",
      "/nfs/a65/pmcjs/miniconda3/envs/leach2021/lib/python3.7/site-packages/ipykernel_launcher.py:69: PerformanceWarning: indexing past lexsort depth may impact performance.\n",
      "/nfs/a65/pmcjs/miniconda3/envs/leach2021/lib/python3.7/site-packages/ipykernel_launcher.py:83: PerformanceWarning: indexing past lexsort depth may impact performance.\n"
     ]
    },
    {
     "name": "stdout",
     "output_type": "stream",
     "text": [
      "saving ssp370\n"
     ]
    },
    {
     "name": "stderr",
     "output_type": "stream",
     "text": [
      "100%|██████████| 550/550 [01:41<00:00,  5.40 timestep/s]\n",
      "100%|██████████| 550/550 [00:01<00:00, 505.68 timestep/s]\n",
      "/nfs/a65/pmcjs/miniconda3/envs/leach2021/lib/python3.7/site-packages/ipykernel_launcher.py:43: PerformanceWarning: indexing past lexsort depth may impact performance.\n",
      "/nfs/a65/pmcjs/miniconda3/envs/leach2021/lib/python3.7/site-packages/ipykernel_launcher.py:55: PerformanceWarning: indexing past lexsort depth may impact performance.\n",
      "/nfs/a65/pmcjs/miniconda3/envs/leach2021/lib/python3.7/site-packages/ipykernel_launcher.py:69: PerformanceWarning: indexing past lexsort depth may impact performance.\n",
      "/nfs/a65/pmcjs/miniconda3/envs/leach2021/lib/python3.7/site-packages/ipykernel_launcher.py:83: PerformanceWarning: indexing past lexsort depth may impact performance.\n"
     ]
    },
    {
     "name": "stdout",
     "output_type": "stream",
     "text": [
      "saving ssp370-lowNTCF-aerchemmip\n"
     ]
    },
    {
     "name": "stderr",
     "output_type": "stream",
     "text": [
      "100%|██████████| 550/550 [01:34<00:00,  5.80 timestep/s]\n",
      "100%|██████████| 550/550 [00:01<00:00, 527.54 timestep/s]\n",
      "/nfs/a65/pmcjs/miniconda3/envs/leach2021/lib/python3.7/site-packages/ipykernel_launcher.py:43: PerformanceWarning: indexing past lexsort depth may impact performance.\n",
      "/nfs/a65/pmcjs/miniconda3/envs/leach2021/lib/python3.7/site-packages/ipykernel_launcher.py:55: PerformanceWarning: indexing past lexsort depth may impact performance.\n",
      "/nfs/a65/pmcjs/miniconda3/envs/leach2021/lib/python3.7/site-packages/ipykernel_launcher.py:69: PerformanceWarning: indexing past lexsort depth may impact performance.\n",
      "/nfs/a65/pmcjs/miniconda3/envs/leach2021/lib/python3.7/site-packages/ipykernel_launcher.py:83: PerformanceWarning: indexing past lexsort depth may impact performance.\n"
     ]
    },
    {
     "name": "stdout",
     "output_type": "stream",
     "text": [
      "saving ssp370-lowNTCF-gidden\n"
     ]
    },
    {
     "name": "stderr",
     "output_type": "stream",
     "text": [
      "100%|██████████| 550/550 [01:34<00:00,  5.79 timestep/s]\n",
      "100%|██████████| 550/550 [00:00<00:00, 554.96 timestep/s]\n",
      "/nfs/a65/pmcjs/miniconda3/envs/leach2021/lib/python3.7/site-packages/ipykernel_launcher.py:43: PerformanceWarning: indexing past lexsort depth may impact performance.\n",
      "/nfs/a65/pmcjs/miniconda3/envs/leach2021/lib/python3.7/site-packages/ipykernel_launcher.py:55: PerformanceWarning: indexing past lexsort depth may impact performance.\n",
      "/nfs/a65/pmcjs/miniconda3/envs/leach2021/lib/python3.7/site-packages/ipykernel_launcher.py:69: PerformanceWarning: indexing past lexsort depth may impact performance.\n",
      "/nfs/a65/pmcjs/miniconda3/envs/leach2021/lib/python3.7/site-packages/ipykernel_launcher.py:83: PerformanceWarning: indexing past lexsort depth may impact performance.\n"
     ]
    },
    {
     "name": "stdout",
     "output_type": "stream",
     "text": [
      "saving ssp434\n"
     ]
    },
    {
     "name": "stderr",
     "output_type": "stream",
     "text": [
      "100%|██████████| 550/550 [01:34<00:00,  5.80 timestep/s]\n",
      "100%|██████████| 550/550 [00:00<00:00, 559.55 timestep/s]\n",
      "/nfs/a65/pmcjs/miniconda3/envs/leach2021/lib/python3.7/site-packages/ipykernel_launcher.py:43: PerformanceWarning: indexing past lexsort depth may impact performance.\n",
      "/nfs/a65/pmcjs/miniconda3/envs/leach2021/lib/python3.7/site-packages/ipykernel_launcher.py:55: PerformanceWarning: indexing past lexsort depth may impact performance.\n",
      "/nfs/a65/pmcjs/miniconda3/envs/leach2021/lib/python3.7/site-packages/ipykernel_launcher.py:69: PerformanceWarning: indexing past lexsort depth may impact performance.\n",
      "/nfs/a65/pmcjs/miniconda3/envs/leach2021/lib/python3.7/site-packages/ipykernel_launcher.py:83: PerformanceWarning: indexing past lexsort depth may impact performance.\n"
     ]
    },
    {
     "name": "stdout",
     "output_type": "stream",
     "text": [
      "saving ssp460\n"
     ]
    },
    {
     "name": "stderr",
     "output_type": "stream",
     "text": [
      "100%|██████████| 550/550 [01:34<00:00,  5.80 timestep/s]\n",
      "100%|██████████| 550/550 [00:01<00:00, 503.46 timestep/s]\n",
      "/nfs/a65/pmcjs/miniconda3/envs/leach2021/lib/python3.7/site-packages/ipykernel_launcher.py:43: PerformanceWarning: indexing past lexsort depth may impact performance.\n",
      "/nfs/a65/pmcjs/miniconda3/envs/leach2021/lib/python3.7/site-packages/ipykernel_launcher.py:55: PerformanceWarning: indexing past lexsort depth may impact performance.\n",
      "/nfs/a65/pmcjs/miniconda3/envs/leach2021/lib/python3.7/site-packages/ipykernel_launcher.py:69: PerformanceWarning: indexing past lexsort depth may impact performance.\n",
      "/nfs/a65/pmcjs/miniconda3/envs/leach2021/lib/python3.7/site-packages/ipykernel_launcher.py:83: PerformanceWarning: indexing past lexsort depth may impact performance.\n"
     ]
    },
    {
     "name": "stdout",
     "output_type": "stream",
     "text": [
      "saving ssp534-over\n"
     ]
    },
    {
     "name": "stderr",
     "output_type": "stream",
     "text": [
      "100%|██████████| 550/550 [01:34<00:00,  5.80 timestep/s]\n",
      "100%|██████████| 550/550 [00:00<00:00, 561.71 timestep/s]\n",
      "/nfs/a65/pmcjs/miniconda3/envs/leach2021/lib/python3.7/site-packages/ipykernel_launcher.py:43: PerformanceWarning: indexing past lexsort depth may impact performance.\n",
      "/nfs/a65/pmcjs/miniconda3/envs/leach2021/lib/python3.7/site-packages/ipykernel_launcher.py:55: PerformanceWarning: indexing past lexsort depth may impact performance.\n",
      "/nfs/a65/pmcjs/miniconda3/envs/leach2021/lib/python3.7/site-packages/ipykernel_launcher.py:69: PerformanceWarning: indexing past lexsort depth may impact performance.\n",
      "/nfs/a65/pmcjs/miniconda3/envs/leach2021/lib/python3.7/site-packages/ipykernel_launcher.py:83: PerformanceWarning: indexing past lexsort depth may impact performance.\n"
     ]
    },
    {
     "name": "stdout",
     "output_type": "stream",
     "text": [
      "saving ssp585\n"
     ]
    }
   ],
   "source": [
    "for ssp in ['ssp119','ssp126','ssp245','ssp370','ssp370-lowNTCF-aerchemmip','ssp370-lowNTCF-gidden','ssp434','ssp460','ssp534-over','ssp585']:\n",
    "    run_RCMIP_esm_ssp(ssp)"
   ]
  },
  {
   "cell_type": "markdown",
   "id": "mighty-circumstances",
   "metadata": {},
   "source": [
    "### esm-SSP-allGHG\n",
    "Easier than esm-SSP in FaIRv2.0.0-alpha..."
   ]
  },
  {
   "cell_type": "code",
   "execution_count": 19,
   "id": "northern-checklist",
   "metadata": {},
   "outputs": [],
   "source": [
    "def run_RCMIP_esm_ssp_allGHG(ssp):\n",
    "\n",
    "    ## retrieve the data for the ssp\n",
    "    emms = RCMIP_to_FaIR_input_emms(ssp).interpolate().loc[1750:2300]\n",
    "    ## rebase emission-driven forcings & species with natural emissions to 1750\n",
    "    rebase_species = ['so2','nox','co','nmvoc','bc','nh3','oc','nox_avi','methyl_bromide','methyl_chloride','chcl3','ch2cl2']\n",
    "    emms.loc[:,rebase_species] -= emms.loc[1750,rebase_species]\n",
    "\n",
    "    LUC_forc = pd.concat([get_RCMIP_forc([ssp],'Effective Radiative Forcing|Anthropogenic|Albedo Change')]*N_sets,axis=1,keys=CONSTRAINED_extforc_sfs.loc['LUC'].index)*CONSTRAINED_extforc_sfs.loc['LUC'].values\n",
    "\n",
    "    nat_forc = get_RCMIP_forc([ssp],['Effective Radiative Forcing|Natural'])\n",
    "\n",
    "    forc = (LUC_forc + nat_forc.values).loc[emms.index]\n",
    "\n",
    "    emms = pd.concat([emms]*N_sets,axis=1,keys=forc.columns.levels[0])\n",
    "\n",
    "    result = run_FaIR(emissions_in=emms,\n",
    "                      forcing_in=forc,\n",
    "                      gas_parameters=CONSTRAINED_gas_set,\n",
    "                      thermal_parameters=CONSTRAINED_thermal_set,\n",
    "                      show_run_info=False)\n",
    "\n",
    "    ## temperature output\n",
    "    T_out = pd.concat([result['T'].loc[:].copy()],axis=1,keys=[ssp],names=['Scenario','Gas cycle set'])\n",
    "    T_out = T_out.T.reset_index().rename({'Gas cycle set':'ensemble_member','Scenario':'scenario'},axis=1)\n",
    "    T_out.loc[:,'variable'] = 'Surface Air Temperature Change'\n",
    "    T_out.loc[:,'region'] = 'World'\n",
    "    T_out.loc[:,'climate_model'] = 'FaIRv2.0.0-alpha'\n",
    "    T_out.loc[:,'model'] = RCMIP_concs.loc[('World',ssp)].Model.unique()[0]\n",
    "    T_out.loc[:,'unit'] = 'K'\n",
    "    T_out = T_out.set_index(['climate_model','model','scenario','region','variable','unit','ensemble_member']).reset_index()\n",
    "\n",
    "    ## RF output\n",
    "    RF_out = result['RF'].xs('carbon_dioxide',axis=1,level=-1)\n",
    "\n",
    "    RF_out = RF_out.T.reset_index().rename({'Scenario':'ensemble_member'},axis=1)\n",
    "    RF_out.loc[:,'variable'] = 'Effective Radiative Forcing|Anthropogenic|CO2'\n",
    "    RF_out.loc[:,'scenario'] = ssp\n",
    "    RF_out.loc[:,'region'] = 'World'\n",
    "    RF_out.loc[:,'climate_model'] = 'FaIRv2.0.0-alpha'\n",
    "    RF_out.loc[:,'model'] = RCMIP_concs.loc[('World',ssp)].Model.unique()[0]\n",
    "    RF_out.loc[:,'unit'] = 'W/m^2'\n",
    "\n",
    "    RF_out = RF_out.set_index(['climate_model','model','scenario','region','variable','unit','ensemble_member']).reset_index()\n",
    "\n",
    "    ## Concentrations out\n",
    "    concs_out = result['C'].xs('carbon_dioxide',axis=1,level=-1)\n",
    "\n",
    "    concs_out = concs_out.T.reset_index().rename({'Scenario':'ensemble_member'},axis=1)\n",
    "\n",
    "    concs_out.loc[:,'variable'] = 'Atmospheric Concentrations|CO2'\n",
    "    concs_out.loc[:,'scenario'] = ssp\n",
    "    concs_out.loc[:,'region'] = 'World'\n",
    "    concs_out.loc[:,'climate_model'] = 'FaIRv2.0.0-alpha'\n",
    "    concs_out.loc[:,'model'] = RCMIP_concs.loc[('World',ssp)].Model.unique()[0]\n",
    "    concs_out.loc[:,'unit'] = 'ppm'\n",
    "\n",
    "    concs_out = concs_out.set_index(['climate_model','model','scenario','region','variable','unit','ensemble_member']).reset_index()\n",
    "    \n",
    "    ## Emissions out\n",
    "    emms_out = result['Emissions'].xs('carbon_dioxide',axis=1,level=-1)/RCMIP_outputmap.loc['carbon_dioxide','RCMIP_emms_scaling']\n",
    "\n",
    "    emms_out = emms_out.T.reset_index().rename({'index':'ensemble_member'},axis=1)\n",
    "\n",
    "    emms_out.loc[:,'variable'] = 'Emissions|CO2'\n",
    "    emms_out.loc[:,'scenario'] = ssp\n",
    "    emms_out.loc[:,'region'] = 'World'\n",
    "    emms_out.loc[:,'climate_model'] = 'FaIRv2.0.0-alpha'\n",
    "    emms_out.loc[:,'model'] = RCMIP_concs.loc[('World',ssp)].Model.unique()[0]\n",
    "    emms_out.loc[:,'unit'] = 'Mt CO2/yr'\n",
    "\n",
    "    emms_out = emms_out.set_index(['climate_model','model','scenario','region','variable','unit','ensemble_member']).reset_index()\n",
    "\n",
    "    output = pd.concat([T_out,RF_out,concs_out,emms_out])\n",
    "    output.iloc[:,7:] = output.iloc[:,7:].astype(np.single)\n",
    "    output.loc[:,'ensemble_member'] = output.loc[:,'ensemble_member'].str[3:].astype(int)\n",
    "\n",
    "    print('saving',ssp)\n",
    "    output.to_csv('../../aux/output-data/RCMIP/esm-'+ssp+'-allGHG_FaIRv2.0.0-alpha-HC5.csv.gz', compression='gzip',index=False)"
   ]
  },
  {
   "cell_type": "code",
   "execution_count": 20,
   "id": "prime-bunch",
   "metadata": {},
   "outputs": [
    {
     "name": "stderr",
     "output_type": "stream",
     "text": [
      "100%|██████████| 550/550 [00:28<00:00, 19.28 timestep/s]\n",
      "/nfs/a65/pmcjs/miniconda3/envs/leach2021/lib/python3.7/site-packages/ipykernel_launcher.py:29: PerformanceWarning: indexing past lexsort depth may impact performance.\n",
      "/nfs/a65/pmcjs/miniconda3/envs/leach2021/lib/python3.7/site-packages/ipykernel_launcher.py:41: PerformanceWarning: indexing past lexsort depth may impact performance.\n",
      "/nfs/a65/pmcjs/miniconda3/envs/leach2021/lib/python3.7/site-packages/ipykernel_launcher.py:55: PerformanceWarning: indexing past lexsort depth may impact performance.\n",
      "/nfs/a65/pmcjs/miniconda3/envs/leach2021/lib/python3.7/site-packages/ipykernel_launcher.py:69: PerformanceWarning: indexing past lexsort depth may impact performance.\n"
     ]
    },
    {
     "name": "stdout",
     "output_type": "stream",
     "text": [
      "saving ssp119\n"
     ]
    },
    {
     "name": "stderr",
     "output_type": "stream",
     "text": [
      "100%|██████████| 550/550 [00:25<00:00, 21.69 timestep/s]\n"
     ]
    },
    {
     "name": "stdout",
     "output_type": "stream",
     "text": [
      "saving ssp126\n"
     ]
    },
    {
     "name": "stderr",
     "output_type": "stream",
     "text": [
      "100%|██████████| 550/550 [00:29<00:00, 18.64 timestep/s]\n"
     ]
    },
    {
     "name": "stdout",
     "output_type": "stream",
     "text": [
      "saving ssp245\n"
     ]
    },
    {
     "name": "stderr",
     "output_type": "stream",
     "text": [
      "100%|██████████| 550/550 [00:28<00:00, 19.54 timestep/s]\n"
     ]
    },
    {
     "name": "stdout",
     "output_type": "stream",
     "text": [
      "saving ssp370\n"
     ]
    },
    {
     "name": "stderr",
     "output_type": "stream",
     "text": [
      "100%|██████████| 550/550 [00:25<00:00, 21.90 timestep/s]\n"
     ]
    },
    {
     "name": "stdout",
     "output_type": "stream",
     "text": [
      "saving ssp370-lowNTCF-aerchemmip\n"
     ]
    },
    {
     "name": "stderr",
     "output_type": "stream",
     "text": [
      "100%|██████████| 550/550 [00:25<00:00, 21.95 timestep/s]\n"
     ]
    },
    {
     "name": "stdout",
     "output_type": "stream",
     "text": [
      "saving ssp370-lowNTCF-gidden\n"
     ]
    },
    {
     "name": "stderr",
     "output_type": "stream",
     "text": [
      "100%|██████████| 550/550 [00:25<00:00, 21.96 timestep/s]\n"
     ]
    },
    {
     "name": "stdout",
     "output_type": "stream",
     "text": [
      "saving ssp434\n"
     ]
    },
    {
     "name": "stderr",
     "output_type": "stream",
     "text": [
      "100%|██████████| 550/550 [00:27<00:00, 19.83 timestep/s]\n"
     ]
    },
    {
     "name": "stdout",
     "output_type": "stream",
     "text": [
      "saving ssp460\n"
     ]
    },
    {
     "name": "stderr",
     "output_type": "stream",
     "text": [
      "100%|██████████| 550/550 [00:25<00:00, 21.56 timestep/s]\n"
     ]
    },
    {
     "name": "stdout",
     "output_type": "stream",
     "text": [
      "saving ssp534-over\n"
     ]
    },
    {
     "name": "stderr",
     "output_type": "stream",
     "text": [
      "100%|██████████| 550/550 [00:25<00:00, 21.77 timestep/s]\n"
     ]
    },
    {
     "name": "stdout",
     "output_type": "stream",
     "text": [
      "saving ssp585\n"
     ]
    }
   ],
   "source": [
    "for ssp in ['ssp119','ssp126','ssp245','ssp370','ssp370-lowNTCF-aerchemmip','ssp370-lowNTCF-gidden','ssp434','ssp460','ssp534-over','ssp585']:\n",
    "    run_RCMIP_esm_ssp_allGHG(ssp)"
   ]
  }
 ],
 "metadata": {
  "kernelspec": {
   "display_name": "Python 3",
   "language": "python",
   "name": "python3"
  },
  "language_info": {
   "codemirror_mode": {
    "name": "ipython",
    "version": 3
   },
   "file_extension": ".py",
   "mimetype": "text/x-python",
   "name": "python",
   "nbconvert_exporter": "python",
   "pygments_lexer": "ipython3",
   "version": "3.7.10"
  }
 },
 "nbformat": 4,
 "nbformat_minor": 5
}
